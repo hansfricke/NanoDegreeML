{
 "cells": [
  {
   "cell_type": "markdown",
   "metadata": {},
   "source": [
    "# Capstone Project: Udacity Machine Learning Engineer\n",
    "## Hans Fricke, 05-18-2018\n",
    "## Final data prep"
   ]
  },
  {
   "cell_type": "code",
   "execution_count": 51,
   "metadata": {
    "collapsed": true
   },
   "outputs": [],
   "source": [
    "# import packages\n",
    "import pandas as pd\n",
    "import os\n",
    "import numpy as np\n",
    "import pprint"
   ]
  },
  {
   "cell_type": "code",
   "execution_count": 52,
   "metadata": {
    "collapsed": true
   },
   "outputs": [],
   "source": [
    "# change working directory\n",
    "os.chdir(\"/Users/hansfricke/Dropbox/ND ML Engineer/Capstone\")"
   ]
  },
  {
   "cell_type": "markdown",
   "metadata": {},
   "source": [
    "#### Read all data sets"
   ]
  },
  {
   "cell_type": "code",
   "execution_count": 53,
   "metadata": {
    "collapsed": true
   },
   "outputs": [],
   "source": [
    "proposals = pd.read_pickle('Data/pre_cleaned_proposals.pkl')"
   ]
  },
  {
   "cell_type": "code",
   "execution_count": 54,
   "metadata": {
    "collapsed": true
   },
   "outputs": [],
   "source": [
    "topics = pd.read_pickle('Data/nmf_topics.pkl')"
   ]
  },
  {
   "cell_type": "code",
   "execution_count": 55,
   "metadata": {
    "collapsed": true
   },
   "outputs": [],
   "source": [
    "components = pd.read_pickle('Data/pca_components.pkl')"
   ]
  },
  {
   "cell_type": "markdown",
   "metadata": {},
   "source": [
    "#### Join data sets"
   ]
  },
  {
   "cell_type": "code",
   "execution_count": 56,
   "metadata": {},
   "outputs": [
    {
     "name": "stdout",
     "output_type": "stream",
     "text": [
      "182080\n",
      "182080\n",
      "182080\n"
     ]
    }
   ],
   "source": [
    "# check that all have same amount of rows\n",
    "print(len(proposals))\n",
    "print(len(topics))\n",
    "print(len(components))"
   ]
  },
  {
   "cell_type": "code",
   "execution_count": 57,
   "metadata": {},
   "outputs": [
    {
     "name": "stdout",
     "output_type": "stream",
     "text": [
      "['id',\n",
      " 'teacher_id',\n",
      " 'teacher_prefix',\n",
      " 'state',\n",
      " 'datetime',\n",
      " 'grade_category',\n",
      " 'subject_categories',\n",
      " 'subject_subcategories',\n",
      " 'title',\n",
      " 'essay_1',\n",
      " 'essay_2',\n",
      " 'essay_3',\n",
      " 'essay_4',\n",
      " 'resource_summary',\n",
      " 'previously_posted_projects',\n",
      " 'approved',\n",
      " 'Literacy&Language',\n",
      " 'Music&TheArts',\n",
      " 'SpecialNeeds',\n",
      " 'Math&Science',\n",
      " 'Health&Sports',\n",
      " 'Care&Hunger',\n",
      " 'History&Civics',\n",
      " 'AppliedLearning',\n",
      " 'Warmth',\n",
      " 'Literacy',\n",
      " 'SocialSciences',\n",
      " 'Literature&Writing',\n",
      " 'FinancialLiteracy',\n",
      " 'AppliedSciences',\n",
      " 'NutritionEducation',\n",
      " 'Mathematics',\n",
      " 'Music',\n",
      " 'CharacterEducation',\n",
      " 'Gym&Fitness',\n",
      " 'Extracurricular',\n",
      " 'PerformingArts',\n",
      " 'CommunityService',\n",
      " 'VisualArts',\n",
      " 'ForeignLanguages',\n",
      " 'EarlyDevelopment',\n",
      " 'Economics',\n",
      " 'EnvironmentalScience',\n",
      " 'ParentInvolvement',\n",
      " 'ESL',\n",
      " 'Civics&Government',\n",
      " 'Health&Wellness',\n",
      " 'Other',\n",
      " 'College&CareerPrep',\n",
      " 'TeamSports',\n",
      " 'History&Geography',\n",
      " 'Health&LifeScience',\n",
      " 'teacher_prefix_Dr.',\n",
      " 'teacher_prefix_Mr.',\n",
      " 'teacher_prefix_Mrs.',\n",
      " 'teacher_prefix_Ms.',\n",
      " 'teacher_prefix_Teacher',\n",
      " 'state_AK',\n",
      " 'state_AL',\n",
      " 'state_AR',\n",
      " 'state_AZ',\n",
      " 'state_CA',\n",
      " 'state_CO',\n",
      " 'state_CT',\n",
      " 'state_DC',\n",
      " 'state_DE',\n",
      " 'state_FL',\n",
      " 'state_GA',\n",
      " 'state_HI',\n",
      " 'state_IA',\n",
      " 'state_ID',\n",
      " 'state_IL',\n",
      " 'state_IN',\n",
      " 'state_KS',\n",
      " 'state_KY',\n",
      " 'state_LA',\n",
      " 'state_MA',\n",
      " 'state_MD',\n",
      " 'state_ME',\n",
      " 'state_MI',\n",
      " 'state_MN',\n",
      " 'state_MO',\n",
      " 'state_MS',\n",
      " 'state_MT',\n",
      " 'state_NC',\n",
      " 'state_ND',\n",
      " 'state_NE',\n",
      " 'state_NH',\n",
      " 'state_NJ',\n",
      " 'state_NM',\n",
      " 'state_NV',\n",
      " 'state_NY',\n",
      " 'state_OH',\n",
      " 'state_OK',\n",
      " 'state_OR',\n",
      " 'state_PA',\n",
      " 'state_RI',\n",
      " 'state_SC',\n",
      " 'state_SD',\n",
      " 'state_TN',\n",
      " 'state_TX',\n",
      " 'state_UT',\n",
      " 'state_VA',\n",
      " 'state_VT',\n",
      " 'state_WA',\n",
      " 'state_WI',\n",
      " 'state_WV',\n",
      " 'state_WY',\n",
      " 'grade_category_Grades 3-5',\n",
      " 'grade_category_Grades 6-8',\n",
      " 'grade_category_Grades 9-12',\n",
      " 'grade_category_Grades PreK-2',\n",
      " 'total_price',\n",
      " 'num_items',\n",
      " 'total_description',\n",
      " 'essay1',\n",
      " 'essay2',\n",
      " 'c_essay1',\n",
      " 'c_essay2',\n",
      " 'c_resource_summary',\n",
      " 'c_total_description']\n"
     ]
    }
   ],
   "source": [
    "# get list of column names\n",
    "proposals_cols = list(proposals.columns)\n",
    "pprint.pprint(proposals_cols)"
   ]
  },
  {
   "cell_type": "code",
   "execution_count": 58,
   "metadata": {},
   "outputs": [
    {
     "name": "stdout",
     "output_type": "stream",
     "text": [
      "['id',\n",
      " 'c_essay1Topic0',\n",
      " 'c_essay1Topic1',\n",
      " 'c_essay2Topic0',\n",
      " 'c_essay2Topic1',\n",
      " 'c_resource_summaryTopic0',\n",
      " 'c_resource_summaryTopic1',\n",
      " 'c_resource_summaryTopic2',\n",
      " 'c_total_descriptionTopic0',\n",
      " 'c_total_descriptionTopic1']\n"
     ]
    }
   ],
   "source": [
    "# get list of column names\n",
    "topics_cols = list(topics.columns)\n",
    "pprint.pprint(topics_cols)"
   ]
  },
  {
   "cell_type": "code",
   "execution_count": 59,
   "metadata": {},
   "outputs": [
    {
     "name": "stdout",
     "output_type": "stream",
     "text": [
      "['id',\n",
      " 'c_essay1Components0',\n",
      " 'c_essay1Components1',\n",
      " 'c_essay1Components2',\n",
      " 'c_essay1Components3',\n",
      " 'c_essay1Components4',\n",
      " 'c_essay1Components5',\n",
      " 'c_essay1Components6',\n",
      " 'c_essay1Components7',\n",
      " 'c_essay1Components8',\n",
      " 'c_essay1Components9',\n",
      " 'c_essay1Components10',\n",
      " 'c_essay1Components11',\n",
      " 'c_essay1Components12',\n",
      " 'c_essay2Components0',\n",
      " 'c_essay2Components1',\n",
      " 'c_essay2Components2',\n",
      " 'c_essay2Components3',\n",
      " 'c_essay2Components4',\n",
      " 'c_essay2Components5',\n",
      " 'c_essay2Components6',\n",
      " 'c_essay2Components7',\n",
      " 'c_essay2Components8',\n",
      " 'c_essay2Components9',\n",
      " 'c_essay2Components10',\n",
      " 'c_essay2Components11',\n",
      " 'c_essay2Components12',\n",
      " 'c_essay2Components13',\n",
      " 'c_essay2Components14',\n",
      " 'c_essay2Components15',\n",
      " 'c_essay2Components16',\n",
      " 'c_essay2Components17',\n",
      " 'c_essay2Components18',\n",
      " 'c_resource_summaryComponents0',\n",
      " 'c_resource_summaryComponents1',\n",
      " 'c_resource_summaryComponents2',\n",
      " 'c_resource_summaryComponents3',\n",
      " 'c_resource_summaryComponents4',\n",
      " 'c_resource_summaryComponents5',\n",
      " 'c_resource_summaryComponents6',\n",
      " 'c_total_descriptionComponents0',\n",
      " 'c_total_descriptionComponents1',\n",
      " 'c_total_descriptionComponents2',\n",
      " 'c_total_descriptionComponents3',\n",
      " 'c_total_descriptionComponents4',\n",
      " 'c_total_descriptionComponents5',\n",
      " 'c_total_descriptionComponents6',\n",
      " 'c_total_descriptionComponents7',\n",
      " 'c_total_descriptionComponents8',\n",
      " 'c_total_descriptionComponents9',\n",
      " 'c_total_descriptionComponents10',\n",
      " 'c_total_descriptionComponents11',\n",
      " 'c_total_descriptionComponents12',\n",
      " 'c_total_descriptionComponents13',\n",
      " 'c_total_descriptionComponents14',\n",
      " 'c_total_descriptionComponents15',\n",
      " 'c_total_descriptionComponents16',\n",
      " 'c_total_descriptionComponents17',\n",
      " 'c_total_descriptionComponents18',\n",
      " 'c_total_descriptionComponents19',\n",
      " 'c_total_descriptionComponents20',\n",
      " 'c_total_descriptionComponents21',\n",
      " 'c_total_descriptionComponents22',\n",
      " 'c_total_descriptionComponents23']\n"
     ]
    }
   ],
   "source": [
    "# get list of column names\n",
    "components_cols = list(components.columns)\n",
    "pprint.pprint(list(components_cols))"
   ]
  },
  {
   "cell_type": "markdown",
   "metadata": {},
   "source": [
    "##### Merge data sets"
   ]
  },
  {
   "cell_type": "code",
   "execution_count": 60,
   "metadata": {
    "collapsed": true
   },
   "outputs": [],
   "source": [
    "final_data = pd.merge(proposals, topics, on='id')"
   ]
  },
  {
   "cell_type": "code",
   "execution_count": 61,
   "metadata": {
    "collapsed": true
   },
   "outputs": [],
   "source": [
    "final_data = pd.merge(final_data, components, on='id')"
   ]
  },
  {
   "cell_type": "markdown",
   "metadata": {},
   "source": [
    "#### Select columns used in analysis"
   ]
  },
  {
   "cell_type": "code",
   "execution_count": 62,
   "metadata": {
    "collapsed": true
   },
   "outputs": [],
   "source": [
    "remove_cols = ['teacher_id',\n",
    "                 'teacher_prefix',\n",
    "                 'state',\n",
    "                 'datetime',\n",
    "                 'grade_category',\n",
    "                 'subject_categories',\n",
    "                 'subject_subcategories',\n",
    "                 'title',\n",
    "                 'essay_1',\n",
    "                 'essay_2',\n",
    "                 'essay_3',\n",
    "                 'essay_4',\n",
    "                 'resource_summary', \n",
    "                 'essay1',\n",
    "                 'essay2', \n",
    "                 'total_description',\n",
    "                 'c_essay1',\n",
    "                 'c_essay2',\n",
    "                 'c_resource_summary',\n",
    "                 'c_total_description']\n",
    "selected_cols = [col for col in proposals_cols if col not in remove_cols]"
   ]
  },
  {
   "cell_type": "code",
   "execution_count": 63,
   "metadata": {
    "collapsed": true
   },
   "outputs": [],
   "source": [
    "topics_cols.remove('id')\n",
    "components_cols.remove('id')"
   ]
  },
  {
   "cell_type": "code",
   "execution_count": 64,
   "metadata": {
    "collapsed": true
   },
   "outputs": [],
   "source": [
    "selected_cols.extend(topics_cols)"
   ]
  },
  {
   "cell_type": "code",
   "execution_count": 65,
   "metadata": {
    "collapsed": true
   },
   "outputs": [],
   "source": [
    "selected_cols.extend(components_cols)"
   ]
  },
  {
   "cell_type": "code",
   "execution_count": 66,
   "metadata": {},
   "outputs": [
    {
     "name": "stdout",
     "output_type": "stream",
     "text": [
      "['id',\n",
      " 'previously_posted_projects',\n",
      " 'approved',\n",
      " 'Literacy&Language',\n",
      " 'Music&TheArts',\n",
      " 'SpecialNeeds',\n",
      " 'Math&Science',\n",
      " 'Health&Sports',\n",
      " 'Care&Hunger',\n",
      " 'History&Civics',\n",
      " 'AppliedLearning',\n",
      " 'Warmth',\n",
      " 'Literacy',\n",
      " 'SocialSciences',\n",
      " 'Literature&Writing',\n",
      " 'FinancialLiteracy',\n",
      " 'AppliedSciences',\n",
      " 'NutritionEducation',\n",
      " 'Mathematics',\n",
      " 'Music',\n",
      " 'CharacterEducation',\n",
      " 'Gym&Fitness',\n",
      " 'Extracurricular',\n",
      " 'PerformingArts',\n",
      " 'CommunityService',\n",
      " 'VisualArts',\n",
      " 'ForeignLanguages',\n",
      " 'EarlyDevelopment',\n",
      " 'Economics',\n",
      " 'EnvironmentalScience',\n",
      " 'ParentInvolvement',\n",
      " 'ESL',\n",
      " 'Civics&Government',\n",
      " 'Health&Wellness',\n",
      " 'Other',\n",
      " 'College&CareerPrep',\n",
      " 'TeamSports',\n",
      " 'History&Geography',\n",
      " 'Health&LifeScience',\n",
      " 'teacher_prefix_Dr.',\n",
      " 'teacher_prefix_Mr.',\n",
      " 'teacher_prefix_Mrs.',\n",
      " 'teacher_prefix_Ms.',\n",
      " 'teacher_prefix_Teacher',\n",
      " 'state_AK',\n",
      " 'state_AL',\n",
      " 'state_AR',\n",
      " 'state_AZ',\n",
      " 'state_CA',\n",
      " 'state_CO',\n",
      " 'state_CT',\n",
      " 'state_DC',\n",
      " 'state_DE',\n",
      " 'state_FL',\n",
      " 'state_GA',\n",
      " 'state_HI',\n",
      " 'state_IA',\n",
      " 'state_ID',\n",
      " 'state_IL',\n",
      " 'state_IN',\n",
      " 'state_KS',\n",
      " 'state_KY',\n",
      " 'state_LA',\n",
      " 'state_MA',\n",
      " 'state_MD',\n",
      " 'state_ME',\n",
      " 'state_MI',\n",
      " 'state_MN',\n",
      " 'state_MO',\n",
      " 'state_MS',\n",
      " 'state_MT',\n",
      " 'state_NC',\n",
      " 'state_ND',\n",
      " 'state_NE',\n",
      " 'state_NH',\n",
      " 'state_NJ',\n",
      " 'state_NM',\n",
      " 'state_NV',\n",
      " 'state_NY',\n",
      " 'state_OH',\n",
      " 'state_OK',\n",
      " 'state_OR',\n",
      " 'state_PA',\n",
      " 'state_RI',\n",
      " 'state_SC',\n",
      " 'state_SD',\n",
      " 'state_TN',\n",
      " 'state_TX',\n",
      " 'state_UT',\n",
      " 'state_VA',\n",
      " 'state_VT',\n",
      " 'state_WA',\n",
      " 'state_WI',\n",
      " 'state_WV',\n",
      " 'state_WY',\n",
      " 'grade_category_Grades 3-5',\n",
      " 'grade_category_Grades 6-8',\n",
      " 'grade_category_Grades 9-12',\n",
      " 'grade_category_Grades PreK-2',\n",
      " 'total_price',\n",
      " 'num_items',\n",
      " 'c_essay1Topic0',\n",
      " 'c_essay1Topic1',\n",
      " 'c_essay2Topic0',\n",
      " 'c_essay2Topic1',\n",
      " 'c_resource_summaryTopic0',\n",
      " 'c_resource_summaryTopic1',\n",
      " 'c_resource_summaryTopic2',\n",
      " 'c_total_descriptionTopic0',\n",
      " 'c_total_descriptionTopic1',\n",
      " 'c_essay1Components0',\n",
      " 'c_essay1Components1',\n",
      " 'c_essay1Components2',\n",
      " 'c_essay1Components3',\n",
      " 'c_essay1Components4',\n",
      " 'c_essay1Components5',\n",
      " 'c_essay1Components6',\n",
      " 'c_essay1Components7',\n",
      " 'c_essay1Components8',\n",
      " 'c_essay1Components9',\n",
      " 'c_essay1Components10',\n",
      " 'c_essay1Components11',\n",
      " 'c_essay1Components12',\n",
      " 'c_essay2Components0',\n",
      " 'c_essay2Components1',\n",
      " 'c_essay2Components2',\n",
      " 'c_essay2Components3',\n",
      " 'c_essay2Components4',\n",
      " 'c_essay2Components5',\n",
      " 'c_essay2Components6',\n",
      " 'c_essay2Components7',\n",
      " 'c_essay2Components8',\n",
      " 'c_essay2Components9',\n",
      " 'c_essay2Components10',\n",
      " 'c_essay2Components11',\n",
      " 'c_essay2Components12',\n",
      " 'c_essay2Components13',\n",
      " 'c_essay2Components14',\n",
      " 'c_essay2Components15',\n",
      " 'c_essay2Components16',\n",
      " 'c_essay2Components17',\n",
      " 'c_essay2Components18',\n",
      " 'c_resource_summaryComponents0',\n",
      " 'c_resource_summaryComponents1',\n",
      " 'c_resource_summaryComponents2',\n",
      " 'c_resource_summaryComponents3',\n",
      " 'c_resource_summaryComponents4',\n",
      " 'c_resource_summaryComponents5',\n",
      " 'c_resource_summaryComponents6',\n",
      " 'c_total_descriptionComponents0',\n",
      " 'c_total_descriptionComponents1',\n",
      " 'c_total_descriptionComponents2',\n",
      " 'c_total_descriptionComponents3',\n",
      " 'c_total_descriptionComponents4',\n",
      " 'c_total_descriptionComponents5',\n",
      " 'c_total_descriptionComponents6',\n",
      " 'c_total_descriptionComponents7',\n",
      " 'c_total_descriptionComponents8',\n",
      " 'c_total_descriptionComponents9',\n",
      " 'c_total_descriptionComponents10',\n",
      " 'c_total_descriptionComponents11',\n",
      " 'c_total_descriptionComponents12',\n",
      " 'c_total_descriptionComponents13',\n",
      " 'c_total_descriptionComponents14',\n",
      " 'c_total_descriptionComponents15',\n",
      " 'c_total_descriptionComponents16',\n",
      " 'c_total_descriptionComponents17',\n",
      " 'c_total_descriptionComponents18',\n",
      " 'c_total_descriptionComponents19',\n",
      " 'c_total_descriptionComponents20',\n",
      " 'c_total_descriptionComponents21',\n",
      " 'c_total_descriptionComponents22',\n",
      " 'c_total_descriptionComponents23']\n"
     ]
    }
   ],
   "source": [
    "pprint.pprint(selected_cols)"
   ]
  },
  {
   "cell_type": "code",
   "execution_count": 70,
   "metadata": {
    "collapsed": true
   },
   "outputs": [],
   "source": [
    "final_data = final_data[selected_cols]"
   ]
  },
  {
   "cell_type": "code",
   "execution_count": 71,
   "metadata": {
    "collapsed": true
   },
   "outputs": [],
   "source": [
    "final_data.to_pickle('Data/final_data.pkl')"
   ]
  },
  {
   "cell_type": "code",
   "execution_count": null,
   "metadata": {
    "collapsed": true
   },
   "outputs": [],
   "source": []
  }
 ],
 "metadata": {
  "kernelspec": {
   "display_name": "Python 3",
   "language": "python",
   "name": "python3"
  },
  "language_info": {
   "codemirror_mode": {
    "name": "ipython",
    "version": 3
   },
   "file_extension": ".py",
   "mimetype": "text/x-python",
   "name": "python",
   "nbconvert_exporter": "python",
   "pygments_lexer": "ipython3",
   "version": "3.6.2"
  }
 },
 "nbformat": 4,
 "nbformat_minor": 2
}
