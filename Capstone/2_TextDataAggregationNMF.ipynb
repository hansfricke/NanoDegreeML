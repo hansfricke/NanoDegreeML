{
 "cells": [
  {
   "cell_type": "markdown",
   "metadata": {},
   "source": [
    "# Capstone Project: Udacity Machine Learning Engineer\n",
    "## Hans Fricke 2018\n",
    "## Unsupervised learning, text data aggregation, topic modelling"
   ]
  },
  {
   "cell_type": "code",
   "execution_count": 1,
   "metadata": {
    "collapsed": true
   },
   "outputs": [],
   "source": [
    "# import packages\n",
    "import pandas as pd\n",
    "import os\n",
    "import numpy as np\n",
    "import random\n",
    "from scipy import sparse\n",
    "from sklearn import metrics\n",
    "import matplotlib.pyplot as plt\n",
    "from sklearn.feature_extraction.text import TfidfVectorizer\n",
    "from sklearn.decomposition import NMF"
   ]
  },
  {
   "cell_type": "code",
   "execution_count": 2,
   "metadata": {
    "collapsed": true
   },
   "outputs": [],
   "source": [
    "# display formatting\n",
    "%matplotlib inline \n",
    "pd.options.display.float_format = '{:20,.2f}'.format\n",
    "\n",
    "# change working directory\n",
    "os.chdir(\"/Users/hansfricke/Dropbox/ND ML Engineer/Capstone\")"
   ]
  },
  {
   "cell_type": "code",
   "execution_count": 3,
   "metadata": {
    "collapsed": true
   },
   "outputs": [],
   "source": [
    "proposals = pd.read_pickle('Data/pre_cleaned_proposals.pkl')"
   ]
  },
  {
   "cell_type": "markdown",
   "metadata": {},
   "source": [
    "### Functions to prep text data and model topics"
   ]
  },
  {
   "cell_type": "markdown",
   "metadata": {},
   "source": [
    "##### Tfidf vectorization"
   ]
  },
  {
   "cell_type": "code",
   "execution_count": 4,
   "metadata": {
    "collapsed": true
   },
   "outputs": [],
   "source": [
    "def tfidf_vectorize(text, no_features):\n",
    "    tfidf_vectorizer = TfidfVectorizer(max_df=0.95, min_df=2, max_features=no_features)\n",
    "    tfidf = tfidf_vectorizer.fit_transform(text)\n",
    "    feature_names = tfidf_vectorizer.get_feature_names()\n",
    "    return tfidf, feature_names"
   ]
  },
  {
   "cell_type": "markdown",
   "metadata": {},
   "source": [
    "##### Non-negative matrix factorization transformation"
   ]
  },
  {
   "cell_type": "code",
   "execution_count": 5,
   "metadata": {
    "collapsed": true
   },
   "outputs": [],
   "source": [
    "def topic_modeling_trans(word_array, no_topics):\n",
    "    nmf = NMF(n_components=no_topics, \n",
    "              random_state=1, \n",
    "              alpha=.1, \n",
    "              l1_ratio=.5, \n",
    "              init='nndsvd').fit_transform(word_array)\n",
    "    return nmf"
   ]
  },
  {
   "cell_type": "markdown",
   "metadata": {},
   "source": [
    "##### Non-negative matrix factorization fit only"
   ]
  },
  {
   "cell_type": "code",
   "execution_count": 6,
   "metadata": {
    "collapsed": true
   },
   "outputs": [],
   "source": [
    "def topic_modeling(word_array, no_topics):\n",
    "    nmf = NMF(n_components=no_topics, \n",
    "              random_state=1, \n",
    "              alpha=.1, \n",
    "              l1_ratio=.5, \n",
    "              init='nndsvd').fit(word_array)\n",
    "    return nmf"
   ]
  },
  {
   "cell_type": "markdown",
   "metadata": {},
   "source": [
    "### Functions to determine optimal number of topics with Calinski-Harabaz Index"
   ]
  },
  {
   "cell_type": "markdown",
   "metadata": {},
   "source": [
    "##### Function to get optimal score (Calinski-Harabaz Index) for a given number of topics"
   ]
  },
  {
   "cell_type": "code",
   "execution_count": 7,
   "metadata": {
    "collapsed": true
   },
   "outputs": [],
   "source": [
    "def get_score(X, n_topics):\n",
    "    nmf = topic_modeling_trans(X, n_topics)\n",
    "    labels = np.argmax(nmf, axis=1)\n",
    "    return metrics.calinski_harabaz_score(X.todense(), labels)"
   ]
  },
  {
   "cell_type": "markdown",
   "metadata": {},
   "source": [
    "##### Get scores for a range of topic numbers"
   ]
  },
  {
   "cell_type": "code",
   "execution_count": 8,
   "metadata": {
    "collapsed": true
   },
   "outputs": [],
   "source": [
    "def scores_n_topics(X, topic_range):\n",
    "    start = topic_range[0]\n",
    "    end = topic_range[1]\n",
    "    scores = {n:get_score(X, n) for n in topic_range}\n",
    "    return scores"
   ]
  },
  {
   "cell_type": "markdown",
   "metadata": {},
   "source": [
    "##### Function to plot scores according for each number of topics"
   ]
  },
  {
   "cell_type": "code",
   "execution_count": 9,
   "metadata": {
    "collapsed": true
   },
   "outputs": [],
   "source": [
    "def plot_scores(scores, path, name):\n",
    "    lists = sorted(scores.items()) # sorted by key, return a list of tuples\n",
    "    x, y = zip(*lists)\n",
    "    plt.plot(x,y)\n",
    "    plt.axvline(x[np.argmax(y)], color='red')\n",
    "    plt.xlabel('Number of topics')\n",
    "    plt.ylabel('Calinski-Harabaz Index')\n",
    "    plt.title(name)\n",
    "    save_as = path + \"/\" + name + \".png\"\n",
    "    plt.savefig(save_as)\n",
    "    plt.show()"
   ]
  },
  {
   "cell_type": "markdown",
   "metadata": {},
   "source": [
    "##### Function to get number of topic with highest score"
   ]
  },
  {
   "cell_type": "code",
   "execution_count": 10,
   "metadata": {
    "collapsed": true
   },
   "outputs": [],
   "source": [
    "def get_max_n(scores):\n",
    "    lists = sorted(scores.items())\n",
    "    topics, scs = zip(*lists)\n",
    "    return  topics[np.argmax(scs)]"
   ]
  },
  {
   "cell_type": "markdown",
   "metadata": {},
   "source": [
    "### Fuction to diplay top words per topic"
   ]
  },
  {
   "cell_type": "code",
   "execution_count": 11,
   "metadata": {
    "collapsed": true
   },
   "outputs": [],
   "source": [
    "def create_topics(model, feature_names, no_top_words):\n",
    "    topics = {}\n",
    "    for topic_idx, topic in enumerate(model.components_):\n",
    "        topic_name = \"Topic\" + str(topic_idx)\n",
    "        topics[topic_name] = [feature_names[i] for i in \n",
    "                               topic.argsort()[:-no_top_words - 1:-1]]\n",
    "    return pd.DataFrame(topics) "
   ]
  },
  {
   "cell_type": "markdown",
   "metadata": {},
   "source": [
    "### Fuction to add components to data"
   ]
  },
  {
   "cell_type": "code",
   "execution_count": 12,
   "metadata": {
    "collapsed": true
   },
   "outputs": [],
   "source": [
    "def join_topics_to_data(model, word_array, dataframe, prefix ):\n",
    "    no_topics = len(model.components_)\n",
    "    new_column_names = [prefix + 'Topic' + str(n) for n in range(0, no_topics)]\n",
    "    dataframe[new_column_names] = pd.DataFrame(model.transform(word_array))\n",
    "    return dataframe"
   ]
  },
  {
   "cell_type": "markdown",
   "metadata": {},
   "source": [
    "### Apply all that to all text columns"
   ]
  },
  {
   "cell_type": "code",
   "execution_count": 13,
   "metadata": {
    "collapsed": true
   },
   "outputs": [],
   "source": [
    "text_cols = ['c_essay1', 'c_essay2', 'c_resource_summary', 'c_total_description']"
   ]
  },
  {
   "cell_type": "markdown",
   "metadata": {},
   "source": [
    "##### Tfidf factorization"
   ]
  },
  {
   "cell_type": "code",
   "execution_count": 14,
   "metadata": {
    "collapsed": true
   },
   "outputs": [],
   "source": [
    "tfidf = {}\n",
    "for text_col in text_cols:\n",
    "    tfidf_matrix, features = tfidf_vectorize(proposals[text_col], 1000)\n",
    "    tfidf[text_col] = {'tfidf': tfidf_matrix, \n",
    "                        'features': features}"
   ]
  },
  {
   "cell_type": "markdown",
   "metadata": {},
   "source": [
    "##### Optimal number of topic"
   ]
  },
  {
   "cell_type": "code",
   "execution_count": 15,
   "metadata": {
    "collapsed": true
   },
   "outputs": [],
   "source": [
    "scores = {}\n",
    "for text_col in text_cols:\n",
    "    scores[text_col] = scores_n_topics(tfidf[text_col]['tfidf'], range(2,16))"
   ]
  },
  {
   "cell_type": "code",
   "execution_count": 16,
   "metadata": {},
   "outputs": [
    {
     "data": {
      "image/png": "[encoded data removed]",
      "text/plain": [
       "<matplotlib.figure.Figure at 0x1a20f63400>"
      ]
     },
     "metadata": {},
     "output_type": "display_data"
    },
    {
     "data": {
      "image/png": "[encoded data removed]",
      "text/plain": [
       "<matplotlib.figure.Figure at 0x1a20f95eb8>"
      ]
     },
     "metadata": {},
     "output_type": "display_data"
    },
    {
     "data": {
      "image/png": "[encoded data removed]",
      "text/plain": [
       "<matplotlib.figure.Figure at 0x1a20f8a710>"
      ]
     },
     "metadata": {},
     "output_type": "display_data"
    },
    {
     "data": {
      "image/png": "[encoded data removed]",
      "text/plain": [
       "<matplotlib.figure.Figure at 0x1a21888898>"
      ]
     },
     "metadata": {},
     "output_type": "display_data"
    }
   ],
   "source": [
    "for text_col in text_cols:\n",
    "    name = 'NMF' + text_col\n",
    "    plot_scores(scores[text_col], './Graphs', name)"
   ]
  },
  {
   "cell_type": "code",
   "execution_count": 17,
   "metadata": {
    "collapsed": true
   },
   "outputs": [],
   "source": [
    "optimal_n_topics = {}\n",
    "for text_col in text_cols:\n",
    "    optimal_n_topics[text_col] = get_max_n(scores[text_col])"
   ]
  },
  {
   "cell_type": "markdown",
   "metadata": {},
   "source": [
    "##### Fit nmf with optimal number of topics"
   ]
  },
  {
   "cell_type": "code",
   "execution_count": 18,
   "metadata": {
    "collapsed": true
   },
   "outputs": [],
   "source": [
    "nmfs_optimal = {}\n",
    "for text_col in text_cols:\n",
    "    nmfs_optimal[text_col] = topic_modeling(tfidf[text_col]['tfidf'], optimal_n_topics[text_col])"
   ]
  },
  {
   "cell_type": "markdown",
   "metadata": {},
   "source": [
    "##### Show top words in each topic"
   ]
  },
  {
   "cell_type": "code",
   "execution_count": 19,
   "metadata": {},
   "outputs": [
    {
     "name": "stdout",
     "output_type": "stream",
     "text": [
      "---- c_essay1 ----\n",
      "       Topic0   Topic1\n",
      "0       learn   school\n",
      "1   classroom     come\n",
      "2        love     many\n",
      "3        work     free\n",
      "4        need    lunch\n",
      "5       class     home\n",
      "6  technology  receive\n",
      "7     reading   family\n",
      "8         new     face\n",
      "9       grade     high\n",
      "---- c_essay2 ----\n",
      "       Topic0     Topic1\n",
      "0       learn       book\n",
      "1         use    reading\n",
      "2   classroom       read\n",
      "3        help    library\n",
      "4        work      level\n",
      "5        need     chrome\n",
      "6  technology       love\n",
      "7       allow       text\n",
      "8        able  classroom\n",
      "9       would      story\n",
      "---- c_resource_summary ----\n",
      "      Topic0     Topic1      Topic2\n",
      "0       book    seating       learn\n",
      "1     chrome   flexible          ma\n",
      "2    reading      chair        help\n",
      "3       read     option  technology\n",
      "4      level     wobble    material\n",
      "5  classroom      stool       skill\n",
      "6    library  classroom         use\n",
      "7        set      learn      supply\n",
      "8   interest      focus   classroom\n",
      "9     access      balls        hand\n",
      "---- c_total_description ----\n",
      "     Topic0   Topic1\n",
      "0        gb      set\n",
      "1      ipad    chair\n",
      "2    chrome      kid\n",
      "3     apple     pack\n",
      "4      mini    color\n",
      "5  electron   wobble\n",
      "6      book     ball\n",
      "7      wife     blue\n",
      "8    memory  balance\n",
      "9       ram    black\n"
     ]
    }
   ],
   "source": [
    "for text_col in text_cols:\n",
    "    print('----', text_col, '----')\n",
    "    print(create_topics(nmfs_optimal[text_col], tfidf[text_col]['features'], 10))"
   ]
  },
  {
   "cell_type": "markdown",
   "metadata": {},
   "source": [
    "##### Join topic columns to dataframe"
   ]
  },
  {
   "cell_type": "code",
   "execution_count": 20,
   "metadata": {
    "collapsed": true
   },
   "outputs": [],
   "source": [
    "nmf_topics = pd.DataFrame(proposals['id'])\n",
    "for text_col in text_cols:\n",
    "    nmf_topics = join_topics_to_data(nmfs_optimal[text_col], tfidf[text_col]['tfidf'], nmf_topics, text_col)"
   ]
  },
  {
   "cell_type": "markdown",
   "metadata": {},
   "source": [
    "##### Display top documants for each topic"
   ]
  },
  {
   "cell_type": "code",
   "execution_count": 21,
   "metadata": {
    "collapsed": true
   },
   "outputs": [],
   "source": [
    "nmf_topics.to_pickle('Data/nmf_topics.pkl')"
   ]
  },
  {
   "cell_type": "code",
   "execution_count": null,
   "metadata": {
    "collapsed": true
   },
   "outputs": [],
   "source": []
  }
 ],
 "metadata": {
  "kernelspec": {
   "display_name": "Python 3",
   "language": "python",
   "name": "python3"
  },
  "language_info": {
   "codemirror_mode": {
    "name": "ipython",
    "version": 3
   },
   "file_extension": ".py",
   "mimetype": "text/x-python",
   "name": "python",
   "nbconvert_exporter": "python",
   "pygments_lexer": "ipython3",
   "version": "3.6.2"
  }
 },
 "nbformat": 4,
 "nbformat_minor": 2
}
