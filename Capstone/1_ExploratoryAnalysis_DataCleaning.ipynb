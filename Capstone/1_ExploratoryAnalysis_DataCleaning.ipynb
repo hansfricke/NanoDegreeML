{
 "cells": [
  {
   "cell_type": "markdown",
   "metadata": {},
   "source": [
    "# Capstone Project: Udacity Machine Learning Engineer\n",
    "## Hans Fricke 2018\n",
    "### Data cleaning"
   ]
  },
  {
   "cell_type": "code",
   "execution_count": 12,
   "metadata": {
    "collapsed": true
   },
   "outputs": [],
   "source": [
    "# import packages\n",
    "import pandas as pd\n",
    "import os\n",
    "import string\n",
    "import datetime\n",
    "import hunspell\n",
    "hobj = hunspell.HunSpell('/Library/Spelling/en_US.dic',\n",
    "                         '/Library/Spelling/en_US.aff')\n",
    "\n",
    "from nltk.corpus import stopwords\n",
    "stop_words = set(stopwords.words('english'))"
   ]
  },
  {
   "cell_type": "code",
   "execution_count": 13,
   "metadata": {
    "collapsed": true
   },
   "outputs": [],
   "source": [
    "# display formatting\n",
    "%matplotlib inline \n",
    "pd.options.display.float_format = '{:20,.2f}'.format\n",
    "\n",
    "# change working directory\n",
    "os.chdir(\"/Users/hansfricke/Dropbox/ND ML Engineer/Capstone/Data\")"
   ]
  },
  {
   "cell_type": "markdown",
   "metadata": {},
   "source": [
    "#### Proposal data"
   ]
  },
  {
   "cell_type": "code",
   "execution_count": 14,
   "metadata": {
    "collapsed": true
   },
   "outputs": [],
   "source": [
    "proposals = pd.read_pickle('proposals.pkl')"
   ]
  },
  {
   "cell_type": "code",
   "execution_count": 15,
   "metadata": {},
   "outputs": [
    {
     "data": {
      "text/html": [
       "<div>\n",
       "<style>\n",
       "    .dataframe thead tr:only-child th {\n",
       "        text-align: right;\n",
       "    }\n",
       "\n",
       "    .dataframe thead th {\n",
       "        text-align: left;\n",
       "    }\n",
       "\n",
       "    .dataframe tbody tr th {\n",
       "        vertical-align: top;\n",
       "    }\n",
       "</style>\n",
       "<table border=\"1\" class=\"dataframe\">\n",
       "  <thead>\n",
       "    <tr style=\"text-align: right;\">\n",
       "      <th></th>\n",
       "      <th>id</th>\n",
       "      <th>teacher_id</th>\n",
       "      <th>teacher_prefix</th>\n",
       "      <th>state</th>\n",
       "      <th>datetime</th>\n",
       "      <th>grade_category</th>\n",
       "      <th>subject_categories</th>\n",
       "      <th>subject_subcategories</th>\n",
       "      <th>title</th>\n",
       "      <th>essay_1</th>\n",
       "      <th>essay_2</th>\n",
       "      <th>essay_3</th>\n",
       "      <th>essay_4</th>\n",
       "      <th>resource_summary</th>\n",
       "      <th>previously_posted_projects</th>\n",
       "      <th>approved</th>\n",
       "    </tr>\n",
       "  </thead>\n",
       "  <tbody>\n",
       "    <tr>\n",
       "      <th>0</th>\n",
       "      <td>p036502</td>\n",
       "      <td>484aaf11257089a66cfedc9461c6bd0a</td>\n",
       "      <td>Ms.</td>\n",
       "      <td>NV</td>\n",
       "      <td>2016-11-18 14:45:59</td>\n",
       "      <td>Grades PreK-2</td>\n",
       "      <td>Literacy &amp; Language</td>\n",
       "      <td>Literacy</td>\n",
       "      <td>Super Sight Word Centers</td>\n",
       "      <td>Most of my kindergarten students come from low...</td>\n",
       "      <td>I currently have a differentiated sight word c...</td>\n",
       "      <td>NaN</td>\n",
       "      <td>NaN</td>\n",
       "      <td>My students need 6 Ipod Nano's to create and d...</td>\n",
       "      <td>26</td>\n",
       "      <td>1</td>\n",
       "    </tr>\n",
       "    <tr>\n",
       "      <th>1</th>\n",
       "      <td>p039565</td>\n",
       "      <td>df72a3ba8089423fa8a94be88060f6ed</td>\n",
       "      <td>Mrs.</td>\n",
       "      <td>GA</td>\n",
       "      <td>2017-04-26 15:57:28</td>\n",
       "      <td>Grades 3-5</td>\n",
       "      <td>Music &amp; The Arts, Health &amp; Sports</td>\n",
       "      <td>Performing Arts, Team Sports</td>\n",
       "      <td>Keep Calm and Dance On</td>\n",
       "      <td>Our elementary school is a culturally rich sch...</td>\n",
       "      <td>We strive to provide our diverse population of...</td>\n",
       "      <td>NaN</td>\n",
       "      <td>NaN</td>\n",
       "      <td>My students need matching shirts to wear for d...</td>\n",
       "      <td>1</td>\n",
       "      <td>0</td>\n",
       "    </tr>\n",
       "    <tr>\n",
       "      <th>2</th>\n",
       "      <td>p233823</td>\n",
       "      <td>a9b876a9252e08a55e3d894150f75ba3</td>\n",
       "      <td>Ms.</td>\n",
       "      <td>UT</td>\n",
       "      <td>2017-01-01 22:57:44</td>\n",
       "      <td>Grades 3-5</td>\n",
       "      <td>Math &amp; Science, Literacy &amp; Language</td>\n",
       "      <td>Applied Sciences, Literature &amp; Writing</td>\n",
       "      <td>Lets 3Doodle to Learn</td>\n",
       "      <td>Hello;\\r\\nMy name is Mrs. Brotherton. I teach ...</td>\n",
       "      <td>We are looking to add some 3Doodler to our cla...</td>\n",
       "      <td>NaN</td>\n",
       "      <td>NaN</td>\n",
       "      <td>My students need the 3doodler. We are an SEM s...</td>\n",
       "      <td>5</td>\n",
       "      <td>1</td>\n",
       "    </tr>\n",
       "    <tr>\n",
       "      <th>3</th>\n",
       "      <td>p185307</td>\n",
       "      <td>525fdbb6ec7f538a48beebaa0a51b24f</td>\n",
       "      <td>Mr.</td>\n",
       "      <td>NC</td>\n",
       "      <td>2016-08-12 15:42:11</td>\n",
       "      <td>Grades 3-5</td>\n",
       "      <td>Health &amp; Sports</td>\n",
       "      <td>Health &amp; Wellness</td>\n",
       "      <td>\\\"Kid Inspired\\\" Equipment to Increase Activit...</td>\n",
       "      <td>My students are the greatest students but are ...</td>\n",
       "      <td>The student's project which is totally \\\"kid-i...</td>\n",
       "      <td>NaN</td>\n",
       "      <td>NaN</td>\n",
       "      <td>My students need balls and other activity equi...</td>\n",
       "      <td>16</td>\n",
       "      <td>0</td>\n",
       "    </tr>\n",
       "    <tr>\n",
       "      <th>4</th>\n",
       "      <td>p013780</td>\n",
       "      <td>a63b5547a7239eae4c1872670848e61a</td>\n",
       "      <td>Mr.</td>\n",
       "      <td>CA</td>\n",
       "      <td>2016-08-06 09:09:11</td>\n",
       "      <td>Grades 6-8</td>\n",
       "      <td>Health &amp; Sports</td>\n",
       "      <td>Health &amp; Wellness</td>\n",
       "      <td>We need clean water for our culinary arts class!</td>\n",
       "      <td>My students are athletes and students who are ...</td>\n",
       "      <td>For some reason in our kitchen the water comes...</td>\n",
       "      <td>NaN</td>\n",
       "      <td>NaN</td>\n",
       "      <td>My students need a water filtration system for...</td>\n",
       "      <td>42</td>\n",
       "      <td>1</td>\n",
       "    </tr>\n",
       "  </tbody>\n",
       "</table>\n",
       "</div>"
      ],
      "text/plain": [
       "        id                        teacher_id teacher_prefix state  \\\n",
       "0  p036502  484aaf11257089a66cfedc9461c6bd0a            Ms.    NV   \n",
       "1  p039565  df72a3ba8089423fa8a94be88060f6ed           Mrs.    GA   \n",
       "2  p233823  a9b876a9252e08a55e3d894150f75ba3            Ms.    UT   \n",
       "3  p185307  525fdbb6ec7f538a48beebaa0a51b24f            Mr.    NC   \n",
       "4  p013780  a63b5547a7239eae4c1872670848e61a            Mr.    CA   \n",
       "\n",
       "             datetime grade_category                   subject_categories  \\\n",
       "0 2016-11-18 14:45:59  Grades PreK-2                  Literacy & Language   \n",
       "1 2017-04-26 15:57:28     Grades 3-5    Music & The Arts, Health & Sports   \n",
       "2 2017-01-01 22:57:44     Grades 3-5  Math & Science, Literacy & Language   \n",
       "3 2016-08-12 15:42:11     Grades 3-5                      Health & Sports   \n",
       "4 2016-08-06 09:09:11     Grades 6-8                      Health & Sports   \n",
       "\n",
       "                    subject_subcategories  \\\n",
       "0                                Literacy   \n",
       "1            Performing Arts, Team Sports   \n",
       "2  Applied Sciences, Literature & Writing   \n",
       "3                       Health & Wellness   \n",
       "4                       Health & Wellness   \n",
       "\n",
       "                                               title  \\\n",
       "0                           Super Sight Word Centers   \n",
       "1                             Keep Calm and Dance On   \n",
       "2                              Lets 3Doodle to Learn   \n",
       "3  \\\"Kid Inspired\\\" Equipment to Increase Activit...   \n",
       "4   We need clean water for our culinary arts class!   \n",
       "\n",
       "                                             essay_1  \\\n",
       "0  Most of my kindergarten students come from low...   \n",
       "1  Our elementary school is a culturally rich sch...   \n",
       "2  Hello;\\r\\nMy name is Mrs. Brotherton. I teach ...   \n",
       "3  My students are the greatest students but are ...   \n",
       "4  My students are athletes and students who are ...   \n",
       "\n",
       "                                             essay_2 essay_3 essay_4  \\\n",
       "0  I currently have a differentiated sight word c...     NaN     NaN   \n",
       "1  We strive to provide our diverse population of...     NaN     NaN   \n",
       "2  We are looking to add some 3Doodler to our cla...     NaN     NaN   \n",
       "3  The student's project which is totally \\\"kid-i...     NaN     NaN   \n",
       "4  For some reason in our kitchen the water comes...     NaN     NaN   \n",
       "\n",
       "                                    resource_summary  \\\n",
       "0  My students need 6 Ipod Nano's to create and d...   \n",
       "1  My students need matching shirts to wear for d...   \n",
       "2  My students need the 3doodler. We are an SEM s...   \n",
       "3  My students need balls and other activity equi...   \n",
       "4  My students need a water filtration system for...   \n",
       "\n",
       "   previously_posted_projects  approved  \n",
       "0                          26         1  \n",
       "1                           1         0  \n",
       "2                           5         1  \n",
       "3                          16         0  \n",
       "4                          42         1  "
      ]
     },
     "execution_count": 15,
     "metadata": {},
     "output_type": "execute_result"
    }
   ],
   "source": [
    "proposals.head()"
   ]
  },
  {
   "cell_type": "code",
   "execution_count": 16,
   "metadata": {},
   "outputs": [
    {
     "data": {
      "text/plain": [
       "count             182,080.00\n",
       "mean                    0.85\n",
       "std                     0.36\n",
       "min                     0.00\n",
       "25%                     1.00\n",
       "50%                     1.00\n",
       "75%                     1.00\n",
       "max                     1.00\n",
       "Name: approved, dtype: float64"
      ]
     },
     "execution_count": 16,
     "metadata": {},
     "output_type": "execute_result"
    }
   ],
   "source": [
    "proposals['approved'].describe()"
   ]
  },
  {
   "cell_type": "code",
   "execution_count": 36,
   "metadata": {},
   "outputs": [
    {
     "data": {
      "text/plain": [
       "count             182,080.00\n",
       "mean                   11.24\n",
       "std                    28.02\n",
       "min                     0.00\n",
       "25%                     0.00\n",
       "50%                     2.00\n",
       "75%                     9.00\n",
       "max                   451.00\n",
       "Name: previously_posted_projects, dtype: float64"
      ]
     },
     "execution_count": 36,
     "metadata": {},
     "output_type": "execute_result"
    }
   ],
   "source": [
    "proposals['previously_posted_projects'].describe()"
   ]
  },
  {
   "cell_type": "markdown",
   "metadata": {},
   "source": [
    "##### Data cleaning steps\n",
    "\n",
    "1. create dummy_variables for categorical responses"
   ]
  },
  {
   "cell_type": "markdown",
   "metadata": {},
   "source": [
    "##### 1) Dummy variables"
   ]
  },
  {
   "cell_type": "code",
   "execution_count": 17,
   "metadata": {},
   "outputs": [
    {
     "data": {
      "text/plain": [
       "Mrs.                      0.52\n",
       "Ms.                       0.36\n",
       "Mr.                       0.10\n",
       "Teacher                   0.02\n",
       "Dr.                       0.00\n",
       "Name: teacher_prefix, dtype: float64"
      ]
     },
     "execution_count": 17,
     "metadata": {},
     "output_type": "execute_result"
    }
   ],
   "source": [
    "# teacher prefix\n",
    "proposals['teacher_prefix'].value_counts()/len(proposals['teacher_prefix'])"
   ]
  },
  {
   "cell_type": "code",
   "execution_count": 18,
   "metadata": {},
   "outputs": [
    {
     "data": {
      "text/plain": [
       "CA                   0.14\n",
       "TX                   0.07\n",
       "NY                   0.07\n",
       "FL                   0.06\n",
       "NC                   0.05\n",
       "IL                   0.04\n",
       "GA                   0.04\n",
       "SC                   0.04\n",
       "MI                   0.03\n",
       "PA                   0.03\n",
       "IN                   0.02\n",
       "MO                   0.02\n",
       "OH                   0.02\n",
       "MA                   0.02\n",
       "LA                   0.02\n",
       "WA                   0.02\n",
       "OK                   0.02\n",
       "NJ                   0.02\n",
       "AZ                   0.02\n",
       "VA                   0.02\n",
       "WI                   0.02\n",
       "AL                   0.02\n",
       "TN                   0.02\n",
       "UT                   0.02\n",
       "CT                   0.02\n",
       "MD                   0.01\n",
       "NV                   0.01\n",
       "MS                   0.01\n",
       "KY                   0.01\n",
       "OR                   0.01\n",
       "MN                   0.01\n",
       "CO                   0.01\n",
       "AR                   0.01\n",
       "ID                   0.01\n",
       "IA                   0.01\n",
       "KS                   0.01\n",
       "NM                   0.01\n",
       "DC                   0.00\n",
       "HI                   0.00\n",
       "WV                   0.00\n",
       "ME                   0.00\n",
       "DE                   0.00\n",
       "NH                   0.00\n",
       "AK                   0.00\n",
       "SD                   0.00\n",
       "NE                   0.00\n",
       "RI                   0.00\n",
       "MT                   0.00\n",
       "ND                   0.00\n",
       "WY                   0.00\n",
       "VT                   0.00\n",
       "Name: state, dtype: float64"
      ]
     },
     "execution_count": 18,
     "metadata": {},
     "output_type": "execute_result"
    }
   ],
   "source": [
    "# state\n",
    "proposals['state'].value_counts()/len(proposals['state'])"
   ]
  },
  {
   "cell_type": "code",
   "execution_count": 19,
   "metadata": {},
   "outputs": [
    {
     "data": {
      "text/plain": [
       "Grades PreK-2                   0.41\n",
       "Grades 3-5                      0.34\n",
       "Grades 6-8                      0.15\n",
       "Grades 9-12                     0.10\n",
       "Name: grade_category, dtype: float64"
      ]
     },
     "execution_count": 19,
     "metadata": {},
     "output_type": "execute_result"
    }
   ],
   "source": [
    "# grades\n",
    "proposals['grade_category'].value_counts()/len(proposals['state'])"
   ]
  },
  {
   "cell_type": "code",
   "execution_count": 20,
   "metadata": {},
   "outputs": [
    {
     "name": "stdout",
     "output_type": "stream",
     "text": [
      "Literacy & Language                           39257\n",
      "Math & Science                                28555\n",
      "Literacy & Language, Math & Science           24499\n",
      "Health & Sports                               16951\n",
      "Music & The Arts                               8527\n",
      "Special Needs                                  7065\n",
      "Literacy & Language, Special Needs             6685\n",
      "Applied Learning                               6310\n",
      "Math & Science, Literacy & Language            3843\n",
      "Applied Learning, Literacy & Language          3725\n",
      "History & Civics                               3065\n",
      "Math & Science, Special Needs                  3010\n",
      "Literacy & Language, Music & The Arts          2878\n",
      "Math & Science, Music & The Arts               2761\n",
      "Applied Learning, Special Needs                2481\n",
      "Health & Sports, Special Needs                 2368\n",
      "History & Civics, Literacy & Language          2288\n",
      "Warmth, Care & Hunger                          2191\n",
      "Math & Science, Applied Learning               2071\n",
      "Applied Learning, Math & Science               1711\n",
      "Literacy & Language, History & Civics          1315\n",
      "Health & Sports, Literacy & Language           1308\n",
      "Applied Learning, Music & The Arts             1241\n",
      "Math & Science, History & Civics               1087\n",
      "Literacy & Language, Applied Learning          1038\n",
      "Applied Learning, Health & Sports              1018\n",
      "Math & Science, Health & Sports                 697\n",
      "History & Civics, Music & The Arts              544\n",
      "History & Civics, Math & Science                525\n",
      "Special Needs, Music & The Arts                 521\n",
      "Health & Sports, Math & Science                 470\n",
      "History & Civics, Special Needs                 417\n",
      "Applied Learning, History & Civics              303\n",
      "Health & Sports, Applied Learning               297\n",
      "Health & Sports, Music & The Arts               262\n",
      "Music & The Arts, Special Needs                 235\n",
      "Literacy & Language, Health & Sports            127\n",
      "Health & Sports, History & Civics                67\n",
      "History & Civics, Applied Learning               65\n",
      "Special Needs, Health & Sports                   64\n",
      "Special Needs, Warmth, Care & Hunger             35\n",
      "Music & The Arts, Health & Sports                32\n",
      "Health & Sports, Warmth, Care & Hunger           31\n",
      "Music & The Arts, History & Civics               29\n",
      "Literacy & Language, Warmth, Care & Hunger       25\n",
      "Applied Learning, Warmth, Care & Hunger          22\n",
      "Music & The Arts, Applied Learning               21\n",
      "History & Civics, Health & Sports                20\n",
      "Math & Science, Warmth, Care & Hunger            19\n",
      "Music & The Arts, Warmth, Care & Hunger           3\n",
      "History & Civics, Warmth, Care & Hunger           1\n",
      "Name: subject_categories, dtype: int64\n",
      "51\n"
     ]
    }
   ],
   "source": [
    "# main subjects\n",
    "print(proposals['subject_categories'].value_counts())\n",
    "print(len(proposals['subject_categories'].value_counts()))"
   ]
  },
  {
   "cell_type": "code",
   "execution_count": 21,
   "metadata": {},
   "outputs": [
    {
     "name": "stdout",
     "output_type": "stream",
     "text": [
      "Literacy                                        15775\n",
      "Literacy, Mathematics                           13863\n",
      "Literature & Writing, Mathematics                9976\n",
      "Literacy, Literature & Writing                   9282\n",
      "Mathematics                                      9041\n",
      "Literature & Writing                             7474\n",
      "Special Needs                                    7065\n",
      "Health & Wellness                                5924\n",
      "Applied Sciences, Mathematics                    5651\n",
      "Literacy, Special Needs                          4091\n",
      "Applied Sciences                                 4037\n",
      "Gym & Fitness, Health & Wellness                 3864\n",
      "Visual Arts                                      3671\n",
      "ESL, Literacy                                    3624\n",
      "Music                                            2427\n",
      "Literature & Writing, Special Needs              2244\n",
      "Warmth, Care & Hunger                            2191\n",
      "Health & Wellness, Special Needs                 2045\n",
      "Gym & Fitness                                    1960\n",
      "Mathematics, Special Needs                       1948\n",
      "Environmental Science                            1825\n",
      "Team Sports                                      1752\n",
      "Environmental Science, Health & Life Science     1672\n",
      "Applied Sciences, Environmental Science          1663\n",
      "Music, Performing Arts                           1507\n",
      "Early Development                                1498\n",
      "Health & Life Science                            1439\n",
      "Other                                            1397\n",
      "Environmental Science, Mathematics               1387\n",
      "Early Development, Special Needs                 1321\n",
      "                                                ...  \n",
      "ESL, Gym & Fitness                                  3\n",
      "College & Career Prep, Gym & Fitness                3\n",
      "Community Service, Gym & Fitness                    2\n",
      "ESL, Team Sports                                    2\n",
      "Gym & Fitness, Parent Involvement                   2\n",
      "Parent Involvement, Warmth, Care & Hunger           2\n",
      "Financial Literacy, Music                           2\n",
      "Extracurricular, Foreign Languages                  2\n",
      "Civics & Government, Foreign Languages              2\n",
      "Economics, Other                                    2\n",
      "Financial Literacy, Health & Wellness               2\n",
      "Nutrition Education, Parent Involvement             2\n",
      "Early Development, Economics                        2\n",
      "Financial Literacy, Performing Arts                 2\n",
      "Community Service, Financial Literacy               2\n",
      "Financial Literacy, Parent Involvement              2\n",
      "Parent Involvement, Team Sports                     1\n",
      "Civics & Government, Parent Involvement             1\n",
      "Gym & Fitness, Social Sciences                      1\n",
      "Gym & Fitness, Warmth, Care & Hunger                1\n",
      "History & Geography, Warmth, Care & Hunger          1\n",
      "Economics, Nutrition Education                      1\n",
      "Extracurricular, Warmth, Care & Hunger              1\n",
      "Civics & Government, Nutrition Education            1\n",
      "ESL, Economics                                      1\n",
      "Financial Literacy, Foreign Languages               1\n",
      "Economics, Extracurricular                          1\n",
      "Economics, Music                                    1\n",
      "Economics, Foreign Languages                        1\n",
      "Music, Nutrition Education                          1\n",
      "Name: subject_subcategories, Length: 407, dtype: int64\n",
      "407\n"
     ]
    }
   ],
   "source": [
    "# sub subjects\n",
    "print(proposals['subject_subcategories'].value_counts())\n",
    "print(len(proposals['subject_subcategories'].value_counts()))"
   ]
  },
  {
   "cell_type": "markdown",
   "metadata": {},
   "source": [
    "- teacher prefix, state and grade can simply be transformed with get_dummies().\n",
    "- the subject variables should be split at the comma and a dummy created for each subject."
   ]
  },
  {
   "cell_type": "code",
   "execution_count": 22,
   "metadata": {
    "collapsed": true
   },
   "outputs": [],
   "source": [
    "# write a program to get list of all unique subjects\n",
    "def get_subjects(series):\n",
    "    subject_combinations = list(set(series))\n",
    "    subjects = []\n",
    "    for combination in subject_combinations:\n",
    "        subjects.extend(combination.split(','))\n",
    "        subjects = list(set(subject.replace(' ', '') for subject in subjects))\n",
    "    return subjects    "
   ]
  },
  {
   "cell_type": "code",
   "execution_count": 23,
   "metadata": {
    "collapsed": true
   },
   "outputs": [],
   "source": [
    "subjects = get_subjects(proposals['subject_categories'])\n",
    "subsubjects = get_subjects(proposals['subject_subcategories'])"
   ]
  },
  {
   "cell_type": "code",
   "execution_count": 24,
   "metadata": {},
   "outputs": [
    {
     "name": "stdout",
     "output_type": "stream",
     "text": [
      "['Math&Science', 'SpecialNeeds', 'History&Civics', 'Literacy&Language', 'AppliedLearning', 'Health&Sports', 'Music&TheArts', 'Care&Hunger', 'Warmth']\n",
      "9\n"
     ]
    }
   ],
   "source": [
    "print(subjects)\n",
    "print(len(subjects))"
   ]
  },
  {
   "cell_type": "code",
   "execution_count": 25,
   "metadata": {},
   "outputs": [
    {
     "name": "stdout",
     "output_type": "stream",
     "text": [
      "['Economics', 'EnvironmentalScience', 'Music', 'PerformingArts', 'Care&Hunger', 'Warmth', 'CharacterEducation', 'Literacy', 'FinancialLiteracy', 'NutritionEducation', 'Gym&Fitness', 'Civics&Government', 'Health&LifeScience', 'ParentInvolvement', 'CommunityService', 'ForeignLanguages', 'Extracurricular', 'AppliedSciences', 'Mathematics', 'VisualArts', 'TeamSports', 'Literature&Writing', 'Health&Wellness', 'Other', 'History&Geography', 'EarlyDevelopment', 'SpecialNeeds', 'SocialSciences', 'ESL', 'College&CareerPrep']\n",
      "30\n"
     ]
    }
   ],
   "source": [
    "print(subsubjects)\n",
    "print(len(subsubjects))"
   ]
  },
  {
   "cell_type": "code",
   "execution_count": 27,
   "metadata": {
    "collapsed": true
   },
   "outputs": [],
   "source": [
    "# function to create a dummy if subject is included in subject combination\n",
    "def create_subject_dummies(string, subject_list):\n",
    "    subjects = string.split(',')\n",
    "    subjects = list(set(subject.replace(' ', '') for subject in subjects))\n",
    "    dummy_values = [int(subject in subjects) for subject in subject_list]\n",
    "    return dummy_values        "
   ]
  },
  {
   "cell_type": "code",
   "execution_count": 28,
   "metadata": {
    "collapsed": true
   },
   "outputs": [],
   "source": [
    "subject_columns = proposals['subject_categories'].apply(lambda x: create_subject_dummies(x, subject_list=subjects))\n",
    "proposals[subjects]=pd.DataFrame(subject_columns.tolist())"
   ]
  },
  {
   "cell_type": "code",
   "execution_count": 29,
   "metadata": {
    "collapsed": true
   },
   "outputs": [],
   "source": [
    "subsubject_columns = proposals['subject_subcategories'].apply(lambda x: create_subject_dummies(x, subject_list=subsubjects))\n",
    "proposals[subsubjects]=pd.DataFrame(subsubject_columns.tolist())"
   ]
  },
  {
   "cell_type": "code",
   "execution_count": 34,
   "metadata": {},
   "outputs": [
    {
     "data": {
      "text/plain": [
       "Care&Hunger                         0.01\n",
       "Warmth                              0.01\n",
       "History&Civics                      0.05\n",
       "Music&TheArts                       0.09\n",
       "AppliedLearning                     0.11\n",
       "SpecialNeeds                        0.13\n",
       "Health&Sports                       0.13\n",
       "Math&Science                        0.38\n",
       "Literacy&Language                   0.48\n",
       "dtype: float64"
      ]
     },
     "execution_count": 34,
     "metadata": {},
     "output_type": "execute_result"
    }
   ],
   "source": [
    "proposals[subjects].mean().sort_values()"
   ]
  },
  {
   "cell_type": "code",
   "execution_count": 33,
   "metadata": {},
   "outputs": [
    {
     "data": {
      "text/plain": [
       "Economics                              0.00\n",
       "CommunityService                       0.00\n",
       "FinancialLiteracy                      0.01\n",
       "ParentInvolvement                      0.01\n",
       "Civics&Government                      0.01\n",
       "Extracurricular                        0.01\n",
       "ForeignLanguages                       0.01\n",
       "NutritionEducation                     0.01\n",
       "Care&Hunger                            0.01\n",
       "Warmth                                 0.01\n",
       "SocialSciences                         0.02\n",
       "PerformingArts                         0.02\n",
       "CharacterEducation                     0.02\n",
       "TeamSports                             0.02\n",
       "Other                                  0.02\n",
       "College&CareerPrep                     0.02\n",
       "Music                                  0.03\n",
       "History&Geography                      0.03\n",
       "EarlyDevelopment                       0.04\n",
       "ESL                                    0.04\n",
       "Health&LifeScience                     0.04\n",
       "Gym&Fitness                            0.04\n",
       "EnvironmentalScience                   0.05\n",
       "VisualArts                             0.06\n",
       "Health&Wellness                        0.09\n",
       "AppliedSciences                        0.10\n",
       "SpecialNeeds                           0.13\n",
       "Literature&Writing                     0.20\n",
       "Mathematics                            0.26\n",
       "Literacy                               0.31\n",
       "dtype: float64"
      ]
     },
     "execution_count": 33,
     "metadata": {},
     "output_type": "execute_result"
    }
   ],
   "source": [
    "proposals[subsubjects].mean().sort_values()"
   ]
  },
  {
   "cell_type": "code",
   "execution_count": 17,
   "metadata": {
    "collapsed": true
   },
   "outputs": [],
   "source": [
    "proposals = proposals.join(pd.get_dummies(proposals[['teacher_prefix', 'state', 'grade_category']]))"
   ]
  },
  {
   "cell_type": "markdown",
   "metadata": {
    "collapsed": true
   },
   "source": [
    "#### Resources"
   ]
  },
  {
   "cell_type": "code",
   "execution_count": 37,
   "metadata": {
    "collapsed": true
   },
   "outputs": [],
   "source": [
    "resources = pd.read_pickle('resources.pkl')"
   ]
  },
  {
   "cell_type": "code",
   "execution_count": 19,
   "metadata": {},
   "outputs": [
    {
     "data": {
      "text/html": [
       "<div>\n",
       "<style>\n",
       "    .dataframe thead tr:only-child th {\n",
       "        text-align: right;\n",
       "    }\n",
       "\n",
       "    .dataframe thead th {\n",
       "        text-align: left;\n",
       "    }\n",
       "\n",
       "    .dataframe tbody tr th {\n",
       "        vertical-align: top;\n",
       "    }\n",
       "</style>\n",
       "<table border=\"1\" class=\"dataframe\">\n",
       "  <thead>\n",
       "    <tr style=\"text-align: right;\">\n",
       "      <th></th>\n",
       "      <th>id</th>\n",
       "      <th>description</th>\n",
       "      <th>quantity</th>\n",
       "      <th>price</th>\n",
       "    </tr>\n",
       "  </thead>\n",
       "  <tbody>\n",
       "    <tr>\n",
       "      <th>0</th>\n",
       "      <td>p233245</td>\n",
       "      <td>LC652 - Lakeshore Double-Space Mobile Drying Rack</td>\n",
       "      <td>1</td>\n",
       "      <td>149.00</td>\n",
       "    </tr>\n",
       "    <tr>\n",
       "      <th>1</th>\n",
       "      <td>p069063</td>\n",
       "      <td>Bouncy Bands for Desks (Blue support pipes)</td>\n",
       "      <td>3</td>\n",
       "      <td>14.95</td>\n",
       "    </tr>\n",
       "    <tr>\n",
       "      <th>2</th>\n",
       "      <td>p069063</td>\n",
       "      <td>Cory Stories: A Kid's Book About Living With Adhd</td>\n",
       "      <td>1</td>\n",
       "      <td>8.45</td>\n",
       "    </tr>\n",
       "    <tr>\n",
       "      <th>3</th>\n",
       "      <td>p069063</td>\n",
       "      <td>Dixon Ticonderoga Wood-Cased #2 HB Pencils, Bo...</td>\n",
       "      <td>2</td>\n",
       "      <td>13.59</td>\n",
       "    </tr>\n",
       "    <tr>\n",
       "      <th>4</th>\n",
       "      <td>p069063</td>\n",
       "      <td>EDUCATIONAL INSIGHTS FLUORESCENT LIGHT FILTERS...</td>\n",
       "      <td>3</td>\n",
       "      <td>24.95</td>\n",
       "    </tr>\n",
       "  </tbody>\n",
       "</table>\n",
       "</div>"
      ],
      "text/plain": [
       "        id                                        description  quantity  \\\n",
       "0  p233245  LC652 - Lakeshore Double-Space Mobile Drying Rack         1   \n",
       "1  p069063        Bouncy Bands for Desks (Blue support pipes)         3   \n",
       "2  p069063  Cory Stories: A Kid's Book About Living With Adhd         1   \n",
       "3  p069063  Dixon Ticonderoga Wood-Cased #2 HB Pencils, Bo...         2   \n",
       "4  p069063  EDUCATIONAL INSIGHTS FLUORESCENT LIGHT FILTERS...         3   \n",
       "\n",
       "                 price  \n",
       "0               149.00  \n",
       "1                14.95  \n",
       "2                 8.45  \n",
       "3                13.59  \n",
       "4                24.95  "
      ]
     },
     "execution_count": 19,
     "metadata": {},
     "output_type": "execute_result"
    }
   ],
   "source": [
    "resources.head()"
   ]
  },
  {
   "cell_type": "code",
   "execution_count": 38,
   "metadata": {},
   "outputs": [
    {
     "data": {
      "text/html": [
       "<div>\n",
       "<style>\n",
       "    .dataframe thead tr:only-child th {\n",
       "        text-align: right;\n",
       "    }\n",
       "\n",
       "    .dataframe thead th {\n",
       "        text-align: left;\n",
       "    }\n",
       "\n",
       "    .dataframe tbody tr th {\n",
       "        vertical-align: top;\n",
       "    }\n",
       "</style>\n",
       "<table border=\"1\" class=\"dataframe\">\n",
       "  <thead>\n",
       "    <tr style=\"text-align: right;\">\n",
       "      <th></th>\n",
       "      <th>quantity</th>\n",
       "      <th>price</th>\n",
       "    </tr>\n",
       "  </thead>\n",
       "  <tbody>\n",
       "    <tr>\n",
       "      <th>count</th>\n",
       "      <td>1,541,272.00</td>\n",
       "      <td>1,541,272.00</td>\n",
       "    </tr>\n",
       "    <tr>\n",
       "      <th>mean</th>\n",
       "      <td>2.86</td>\n",
       "      <td>50.28</td>\n",
       "    </tr>\n",
       "    <tr>\n",
       "      <th>std</th>\n",
       "      <td>7.57</td>\n",
       "      <td>144.73</td>\n",
       "    </tr>\n",
       "    <tr>\n",
       "      <th>min</th>\n",
       "      <td>1.00</td>\n",
       "      <td>0.00</td>\n",
       "    </tr>\n",
       "    <tr>\n",
       "      <th>25%</th>\n",
       "      <td>1.00</td>\n",
       "      <td>7.90</td>\n",
       "    </tr>\n",
       "    <tr>\n",
       "      <th>50%</th>\n",
       "      <td>1.00</td>\n",
       "      <td>14.99</td>\n",
       "    </tr>\n",
       "    <tr>\n",
       "      <th>75%</th>\n",
       "      <td>2.00</td>\n",
       "      <td>39.80</td>\n",
       "    </tr>\n",
       "    <tr>\n",
       "      <th>max</th>\n",
       "      <td>800.00</td>\n",
       "      <td>9,999.00</td>\n",
       "    </tr>\n",
       "  </tbody>\n",
       "</table>\n",
       "</div>"
      ],
      "text/plain": [
       "                  quantity                price\n",
       "count         1,541,272.00         1,541,272.00\n",
       "mean                  2.86                50.28\n",
       "std                   7.57               144.73\n",
       "min                   1.00                 0.00\n",
       "25%                   1.00                 7.90\n",
       "50%                   1.00                14.99\n",
       "75%                   2.00                39.80\n",
       "max                 800.00             9,999.00"
      ]
     },
     "execution_count": 38,
     "metadata": {},
     "output_type": "execute_result"
    }
   ],
   "source": [
    "resources.describe()"
   ]
  },
  {
   "cell_type": "markdown",
   "metadata": {},
   "source": [
    "##### Steps"
   ]
  },
  {
   "cell_type": "markdown",
   "metadata": {},
   "source": [
    "1. Calculate total price per item\n",
    "2. Calculate total price for requested resources\n",
    "3. Count number of items\n",
    "4. Concatenate all items description\n",
    "5. Keep one record per ID\n"
   ]
  },
  {
   "cell_type": "markdown",
   "metadata": {},
   "source": [
    "###### 1. Calculate total price per item"
   ]
  },
  {
   "cell_type": "code",
   "execution_count": 39,
   "metadata": {
    "collapsed": true
   },
   "outputs": [],
   "source": [
    "resources['total_item_price'] = resources['price'] * resources['quantity']"
   ]
  },
  {
   "cell_type": "markdown",
   "metadata": {},
   "source": [
    "##### 2. Calculate total price for requested resources"
   ]
  },
  {
   "cell_type": "code",
   "execution_count": 40,
   "metadata": {
    "collapsed": true
   },
   "outputs": [],
   "source": [
    "resources['total_price'] = resources.groupby('id')['total_item_price'].transform('sum')"
   ]
  },
  {
   "cell_type": "markdown",
   "metadata": {},
   "source": [
    "###### 3. Count number of items"
   ]
  },
  {
   "cell_type": "code",
   "execution_count": 41,
   "metadata": {
    "collapsed": true
   },
   "outputs": [],
   "source": [
    "resources['num_items'] = resources.groupby('id')['id'].transform('count')"
   ]
  },
  {
   "cell_type": "markdown",
   "metadata": {},
   "source": [
    "###### 4. Concatenate all items description"
   ]
  },
  {
   "cell_type": "code",
   "execution_count": 42,
   "metadata": {
    "collapsed": true
   },
   "outputs": [],
   "source": [
    "# fuction takes a series and joins all values to one string\n",
    "# if any value not string, transform all values to string\n",
    "# try/except fro computation speed\n",
    "def join_items(series):\n",
    "    try:\n",
    "        joined_str = ' '.join(series)\n",
    "    except TypeError:\n",
    "        joined_str = ' '.join([str(x) for x in series])\n",
    "    return joined_str"
   ]
  },
  {
   "cell_type": "code",
   "execution_count": 43,
   "metadata": {
    "collapsed": true
   },
   "outputs": [],
   "source": [
    "resources['total_description'] = resources.groupby('id')['description'].transform(join_items) "
   ]
  },
  {
   "cell_type": "code",
   "execution_count": 44,
   "metadata": {},
   "outputs": [
    {
     "data": {
      "text/html": [
       "<div>\n",
       "<style>\n",
       "    .dataframe thead tr:only-child th {\n",
       "        text-align: right;\n",
       "    }\n",
       "\n",
       "    .dataframe thead th {\n",
       "        text-align: left;\n",
       "    }\n",
       "\n",
       "    .dataframe tbody tr th {\n",
       "        vertical-align: top;\n",
       "    }\n",
       "</style>\n",
       "<table border=\"1\" class=\"dataframe\">\n",
       "  <thead>\n",
       "    <tr style=\"text-align: right;\">\n",
       "      <th></th>\n",
       "      <th>id</th>\n",
       "      <th>description</th>\n",
       "      <th>quantity</th>\n",
       "      <th>price</th>\n",
       "      <th>total_item_price</th>\n",
       "      <th>total_price</th>\n",
       "      <th>num_items</th>\n",
       "      <th>total_description</th>\n",
       "    </tr>\n",
       "  </thead>\n",
       "  <tbody>\n",
       "    <tr>\n",
       "      <th>0</th>\n",
       "      <td>p233245</td>\n",
       "      <td>LC652 - Lakeshore Double-Space Mobile Drying Rack</td>\n",
       "      <td>1</td>\n",
       "      <td>149.00</td>\n",
       "      <td>149.00</td>\n",
       "      <td>149.00</td>\n",
       "      <td>1</td>\n",
       "      <td>LC652 - Lakeshore Double-Space Mobile Drying Rack</td>\n",
       "    </tr>\n",
       "    <tr>\n",
       "      <th>1</th>\n",
       "      <td>p069063</td>\n",
       "      <td>Bouncy Bands for Desks (Blue support pipes)</td>\n",
       "      <td>3</td>\n",
       "      <td>14.95</td>\n",
       "      <td>44.85</td>\n",
       "      <td>202.49</td>\n",
       "      <td>7</td>\n",
       "      <td>Bouncy Bands for Desks (Blue support pipes) Co...</td>\n",
       "    </tr>\n",
       "    <tr>\n",
       "      <th>2</th>\n",
       "      <td>p069063</td>\n",
       "      <td>Cory Stories: A Kid's Book About Living With Adhd</td>\n",
       "      <td>1</td>\n",
       "      <td>8.45</td>\n",
       "      <td>8.45</td>\n",
       "      <td>202.49</td>\n",
       "      <td>7</td>\n",
       "      <td>Bouncy Bands for Desks (Blue support pipes) Co...</td>\n",
       "    </tr>\n",
       "    <tr>\n",
       "      <th>3</th>\n",
       "      <td>p069063</td>\n",
       "      <td>Dixon Ticonderoga Wood-Cased #2 HB Pencils, Bo...</td>\n",
       "      <td>2</td>\n",
       "      <td>13.59</td>\n",
       "      <td>27.18</td>\n",
       "      <td>202.49</td>\n",
       "      <td>7</td>\n",
       "      <td>Bouncy Bands for Desks (Blue support pipes) Co...</td>\n",
       "    </tr>\n",
       "    <tr>\n",
       "      <th>4</th>\n",
       "      <td>p069063</td>\n",
       "      <td>EDUCATIONAL INSIGHTS FLUORESCENT LIGHT FILTERS...</td>\n",
       "      <td>3</td>\n",
       "      <td>24.95</td>\n",
       "      <td>74.85</td>\n",
       "      <td>202.49</td>\n",
       "      <td>7</td>\n",
       "      <td>Bouncy Bands for Desks (Blue support pipes) Co...</td>\n",
       "    </tr>\n",
       "  </tbody>\n",
       "</table>\n",
       "</div>"
      ],
      "text/plain": [
       "        id                                        description  quantity  \\\n",
       "0  p233245  LC652 - Lakeshore Double-Space Mobile Drying Rack         1   \n",
       "1  p069063        Bouncy Bands for Desks (Blue support pipes)         3   \n",
       "2  p069063  Cory Stories: A Kid's Book About Living With Adhd         1   \n",
       "3  p069063  Dixon Ticonderoga Wood-Cased #2 HB Pencils, Bo...         2   \n",
       "4  p069063  EDUCATIONAL INSIGHTS FLUORESCENT LIGHT FILTERS...         3   \n",
       "\n",
       "                 price     total_item_price          total_price  num_items  \\\n",
       "0               149.00               149.00               149.00          1   \n",
       "1                14.95                44.85               202.49          7   \n",
       "2                 8.45                 8.45               202.49          7   \n",
       "3                13.59                27.18               202.49          7   \n",
       "4                24.95                74.85               202.49          7   \n",
       "\n",
       "                                   total_description  \n",
       "0  LC652 - Lakeshore Double-Space Mobile Drying Rack  \n",
       "1  Bouncy Bands for Desks (Blue support pipes) Co...  \n",
       "2  Bouncy Bands for Desks (Blue support pipes) Co...  \n",
       "3  Bouncy Bands for Desks (Blue support pipes) Co...  \n",
       "4  Bouncy Bands for Desks (Blue support pipes) Co...  "
      ]
     },
     "execution_count": 44,
     "metadata": {},
     "output_type": "execute_result"
    }
   ],
   "source": [
    "resources.head()"
   ]
  },
  {
   "cell_type": "markdown",
   "metadata": {},
   "source": [
    "##### 5. Keep one record per ID"
   ]
  },
  {
   "cell_type": "code",
   "execution_count": 45,
   "metadata": {
    "collapsed": true
   },
   "outputs": [],
   "source": [
    "new_resources = resources.drop_duplicates('id')"
   ]
  },
  {
   "cell_type": "code",
   "execution_count": 46,
   "metadata": {
    "collapsed": true
   },
   "outputs": [],
   "source": [
    "# Keep only new columns with aggregate information\n",
    "new_resources = new_resources[['id', 'total_price', 'num_items', 'total_description']]"
   ]
  },
  {
   "cell_type": "code",
   "execution_count": 47,
   "metadata": {},
   "outputs": [
    {
     "data": {
      "text/html": [
       "<div>\n",
       "<style>\n",
       "    .dataframe thead tr:only-child th {\n",
       "        text-align: right;\n",
       "    }\n",
       "\n",
       "    .dataframe thead th {\n",
       "        text-align: left;\n",
       "    }\n",
       "\n",
       "    .dataframe tbody tr th {\n",
       "        vertical-align: top;\n",
       "    }\n",
       "</style>\n",
       "<table border=\"1\" class=\"dataframe\">\n",
       "  <thead>\n",
       "    <tr style=\"text-align: right;\">\n",
       "      <th></th>\n",
       "      <th>total_price</th>\n",
       "      <th>num_items</th>\n",
       "    </tr>\n",
       "  </thead>\n",
       "  <tbody>\n",
       "    <tr>\n",
       "      <th>count</th>\n",
       "      <td>260,115.00</td>\n",
       "      <td>260,115.00</td>\n",
       "    </tr>\n",
       "    <tr>\n",
       "      <th>mean</th>\n",
       "      <td>544.88</td>\n",
       "      <td>5.93</td>\n",
       "    </tr>\n",
       "    <tr>\n",
       "      <th>std</th>\n",
       "      <td>547.75</td>\n",
       "      <td>8.32</td>\n",
       "    </tr>\n",
       "    <tr>\n",
       "      <th>min</th>\n",
       "      <td>100.00</td>\n",
       "      <td>1.00</td>\n",
       "    </tr>\n",
       "    <tr>\n",
       "      <th>25%</th>\n",
       "      <td>245.99</td>\n",
       "      <td>1.00</td>\n",
       "    </tr>\n",
       "    <tr>\n",
       "      <th>50%</th>\n",
       "      <td>397.42</td>\n",
       "      <td>3.00</td>\n",
       "    </tr>\n",
       "    <tr>\n",
       "      <th>75%</th>\n",
       "      <td>690.55</td>\n",
       "      <td>7.00</td>\n",
       "    </tr>\n",
       "    <tr>\n",
       "      <th>max</th>\n",
       "      <td>17,901.94</td>\n",
       "      <td>100.00</td>\n",
       "    </tr>\n",
       "  </tbody>\n",
       "</table>\n",
       "</div>"
      ],
      "text/plain": [
       "               total_price            num_items\n",
       "count           260,115.00           260,115.00\n",
       "mean                544.88                 5.93\n",
       "std                 547.75                 8.32\n",
       "min                 100.00                 1.00\n",
       "25%                 245.99                 1.00\n",
       "50%                 397.42                 3.00\n",
       "75%                 690.55                 7.00\n",
       "max              17,901.94               100.00"
      ]
     },
     "execution_count": 47,
     "metadata": {},
     "output_type": "execute_result"
    }
   ],
   "source": [
    "new_resources.describe()"
   ]
  },
  {
   "cell_type": "markdown",
   "metadata": {},
   "source": [
    "#### Merge both data sets"
   ]
  },
  {
   "cell_type": "code",
   "execution_count": 28,
   "metadata": {
    "collapsed": true
   },
   "outputs": [],
   "source": [
    "pre_cleaned_proposals = proposals.merge(new_resources, on='id', how = 'left')"
   ]
  },
  {
   "cell_type": "code",
   "execution_count": 29,
   "metadata": {},
   "outputs": [
    {
     "data": {
      "text/html": [
       "<div>\n",
       "<style>\n",
       "    .dataframe thead tr:only-child th {\n",
       "        text-align: right;\n",
       "    }\n",
       "\n",
       "    .dataframe thead th {\n",
       "        text-align: left;\n",
       "    }\n",
       "\n",
       "    .dataframe tbody tr th {\n",
       "        vertical-align: top;\n",
       "    }\n",
       "</style>\n",
       "<table border=\"1\" class=\"dataframe\">\n",
       "  <thead>\n",
       "    <tr style=\"text-align: right;\">\n",
       "      <th></th>\n",
       "      <th>id</th>\n",
       "      <th>teacher_id</th>\n",
       "      <th>teacher_prefix</th>\n",
       "      <th>state</th>\n",
       "      <th>datetime</th>\n",
       "      <th>grade_category</th>\n",
       "      <th>subject_categories</th>\n",
       "      <th>subject_subcategories</th>\n",
       "      <th>title</th>\n",
       "      <th>essay_1</th>\n",
       "      <th>...</th>\n",
       "      <th>state_WI</th>\n",
       "      <th>state_WV</th>\n",
       "      <th>state_WY</th>\n",
       "      <th>grade_category_Grades 3-5</th>\n",
       "      <th>grade_category_Grades 6-8</th>\n",
       "      <th>grade_category_Grades 9-12</th>\n",
       "      <th>grade_category_Grades PreK-2</th>\n",
       "      <th>total_price</th>\n",
       "      <th>num_items</th>\n",
       "      <th>total_description</th>\n",
       "    </tr>\n",
       "  </thead>\n",
       "  <tbody>\n",
       "    <tr>\n",
       "      <th>0</th>\n",
       "      <td>p036502</td>\n",
       "      <td>484aaf11257089a66cfedc9461c6bd0a</td>\n",
       "      <td>Ms.</td>\n",
       "      <td>NV</td>\n",
       "      <td>2016-11-18 14:45:59</td>\n",
       "      <td>Grades PreK-2</td>\n",
       "      <td>Literacy &amp; Language</td>\n",
       "      <td>Literacy</td>\n",
       "      <td>Super Sight Word Centers</td>\n",
       "      <td>Most of my kindergarten students come from low...</td>\n",
       "      <td>...</td>\n",
       "      <td>0</td>\n",
       "      <td>0</td>\n",
       "      <td>0</td>\n",
       "      <td>0</td>\n",
       "      <td>0</td>\n",
       "      <td>0</td>\n",
       "      <td>1</td>\n",
       "      <td>899.94</td>\n",
       "      <td>2</td>\n",
       "      <td>Apple - iPod nano� 16GB MP3 Player (8th Genera...</td>\n",
       "    </tr>\n",
       "    <tr>\n",
       "      <th>1</th>\n",
       "      <td>p039565</td>\n",
       "      <td>df72a3ba8089423fa8a94be88060f6ed</td>\n",
       "      <td>Mrs.</td>\n",
       "      <td>GA</td>\n",
       "      <td>2017-04-26 15:57:28</td>\n",
       "      <td>Grades 3-5</td>\n",
       "      <td>Music &amp; The Arts, Health &amp; Sports</td>\n",
       "      <td>Performing Arts, Team Sports</td>\n",
       "      <td>Keep Calm and Dance On</td>\n",
       "      <td>Our elementary school is a culturally rich sch...</td>\n",
       "      <td>...</td>\n",
       "      <td>0</td>\n",
       "      <td>0</td>\n",
       "      <td>0</td>\n",
       "      <td>1</td>\n",
       "      <td>0</td>\n",
       "      <td>0</td>\n",
       "      <td>0</td>\n",
       "      <td>400.00</td>\n",
       "      <td>1</td>\n",
       "      <td>Reebok Girls' Fashion Dance Graphic T-Shirt - ...</td>\n",
       "    </tr>\n",
       "    <tr>\n",
       "      <th>2</th>\n",
       "      <td>p233823</td>\n",
       "      <td>a9b876a9252e08a55e3d894150f75ba3</td>\n",
       "      <td>Ms.</td>\n",
       "      <td>UT</td>\n",
       "      <td>2017-01-01 22:57:44</td>\n",
       "      <td>Grades 3-5</td>\n",
       "      <td>Math &amp; Science, Literacy &amp; Language</td>\n",
       "      <td>Applied Sciences, Literature &amp; Writing</td>\n",
       "      <td>Lets 3Doodle to Learn</td>\n",
       "      <td>Hello;\\r\\nMy name is Mrs. Brotherton. I teach ...</td>\n",
       "      <td>...</td>\n",
       "      <td>0</td>\n",
       "      <td>0</td>\n",
       "      <td>0</td>\n",
       "      <td>1</td>\n",
       "      <td>0</td>\n",
       "      <td>0</td>\n",
       "      <td>0</td>\n",
       "      <td>469.99</td>\n",
       "      <td>1</td>\n",
       "      <td>3doodler Start Full Edu Bundle</td>\n",
       "    </tr>\n",
       "    <tr>\n",
       "      <th>3</th>\n",
       "      <td>p185307</td>\n",
       "      <td>525fdbb6ec7f538a48beebaa0a51b24f</td>\n",
       "      <td>Mr.</td>\n",
       "      <td>NC</td>\n",
       "      <td>2016-08-12 15:42:11</td>\n",
       "      <td>Grades 3-5</td>\n",
       "      <td>Health &amp; Sports</td>\n",
       "      <td>Health &amp; Wellness</td>\n",
       "      <td>\\\"Kid Inspired\\\" Equipment to Increase Activit...</td>\n",
       "      <td>My students are the greatest students but are ...</td>\n",
       "      <td>...</td>\n",
       "      <td>0</td>\n",
       "      <td>0</td>\n",
       "      <td>0</td>\n",
       "      <td>1</td>\n",
       "      <td>0</td>\n",
       "      <td>0</td>\n",
       "      <td>0</td>\n",
       "      <td>684.47</td>\n",
       "      <td>5</td>\n",
       "      <td>BALL PG 4'' POLY SET OF 6 COLORS BALL PLAYGROU...</td>\n",
       "    </tr>\n",
       "    <tr>\n",
       "      <th>4</th>\n",
       "      <td>p013780</td>\n",
       "      <td>a63b5547a7239eae4c1872670848e61a</td>\n",
       "      <td>Mr.</td>\n",
       "      <td>CA</td>\n",
       "      <td>2016-08-06 09:09:11</td>\n",
       "      <td>Grades 6-8</td>\n",
       "      <td>Health &amp; Sports</td>\n",
       "      <td>Health &amp; Wellness</td>\n",
       "      <td>We need clean water for our culinary arts class!</td>\n",
       "      <td>My students are athletes and students who are ...</td>\n",
       "      <td>...</td>\n",
       "      <td>0</td>\n",
       "      <td>0</td>\n",
       "      <td>0</td>\n",
       "      <td>0</td>\n",
       "      <td>1</td>\n",
       "      <td>0</td>\n",
       "      <td>0</td>\n",
       "      <td>711.00</td>\n",
       "      <td>1</td>\n",
       "      <td>Crown Berkey Water Filter With 2 Black and 2 P...</td>\n",
       "    </tr>\n",
       "  </tbody>\n",
       "</table>\n",
       "<p>5 rows × 115 columns</p>\n",
       "</div>"
      ],
      "text/plain": [
       "        id                        teacher_id teacher_prefix state  \\\n",
       "0  p036502  484aaf11257089a66cfedc9461c6bd0a            Ms.    NV   \n",
       "1  p039565  df72a3ba8089423fa8a94be88060f6ed           Mrs.    GA   \n",
       "2  p233823  a9b876a9252e08a55e3d894150f75ba3            Ms.    UT   \n",
       "3  p185307  525fdbb6ec7f538a48beebaa0a51b24f            Mr.    NC   \n",
       "4  p013780  a63b5547a7239eae4c1872670848e61a            Mr.    CA   \n",
       "\n",
       "             datetime grade_category                   subject_categories  \\\n",
       "0 2016-11-18 14:45:59  Grades PreK-2                  Literacy & Language   \n",
       "1 2017-04-26 15:57:28     Grades 3-5    Music & The Arts, Health & Sports   \n",
       "2 2017-01-01 22:57:44     Grades 3-5  Math & Science, Literacy & Language   \n",
       "3 2016-08-12 15:42:11     Grades 3-5                      Health & Sports   \n",
       "4 2016-08-06 09:09:11     Grades 6-8                      Health & Sports   \n",
       "\n",
       "                    subject_subcategories  \\\n",
       "0                                Literacy   \n",
       "1            Performing Arts, Team Sports   \n",
       "2  Applied Sciences, Literature & Writing   \n",
       "3                       Health & Wellness   \n",
       "4                       Health & Wellness   \n",
       "\n",
       "                                               title  \\\n",
       "0                           Super Sight Word Centers   \n",
       "1                             Keep Calm and Dance On   \n",
       "2                              Lets 3Doodle to Learn   \n",
       "3  \\\"Kid Inspired\\\" Equipment to Increase Activit...   \n",
       "4   We need clean water for our culinary arts class!   \n",
       "\n",
       "                                             essay_1  \\\n",
       "0  Most of my kindergarten students come from low...   \n",
       "1  Our elementary school is a culturally rich sch...   \n",
       "2  Hello;\\r\\nMy name is Mrs. Brotherton. I teach ...   \n",
       "3  My students are the greatest students but are ...   \n",
       "4  My students are athletes and students who are ...   \n",
       "\n",
       "                         ...                         state_WI state_WV  \\\n",
       "0                        ...                                0        0   \n",
       "1                        ...                                0        0   \n",
       "2                        ...                                0        0   \n",
       "3                        ...                                0        0   \n",
       "4                        ...                                0        0   \n",
       "\n",
       "  state_WY grade_category_Grades 3-5  grade_category_Grades 6-8  \\\n",
       "0        0                         0                          0   \n",
       "1        0                         1                          0   \n",
       "2        0                         1                          0   \n",
       "3        0                         1                          0   \n",
       "4        0                         0                          1   \n",
       "\n",
       "   grade_category_Grades 9-12  grade_category_Grades PreK-2  \\\n",
       "0                           0                             1   \n",
       "1                           0                             0   \n",
       "2                           0                             0   \n",
       "3                           0                             0   \n",
       "4                           0                             0   \n",
       "\n",
       "           total_price  num_items  \\\n",
       "0               899.94          2   \n",
       "1               400.00          1   \n",
       "2               469.99          1   \n",
       "3               684.47          5   \n",
       "4               711.00          1   \n",
       "\n",
       "                                   total_description  \n",
       "0  Apple - iPod nano� 16GB MP3 Player (8th Genera...  \n",
       "1  Reebok Girls' Fashion Dance Graphic T-Shirt - ...  \n",
       "2                     3doodler Start Full Edu Bundle  \n",
       "3  BALL PG 4'' POLY SET OF 6 COLORS BALL PLAYGROU...  \n",
       "4  Crown Berkey Water Filter With 2 Black and 2 P...  \n",
       "\n",
       "[5 rows x 115 columns]"
      ]
     },
     "execution_count": 29,
     "metadata": {},
     "output_type": "execute_result"
    }
   ],
   "source": [
    "pre_cleaned_proposals.head()"
   ]
  },
  {
   "cell_type": "markdown",
   "metadata": {},
   "source": [
    "#### Text cleaning"
   ]
  },
  {
   "cell_type": "markdown",
   "metadata": {},
   "source": [
    "1. All lower case letters\n",
    "2. Remove numbers and punctuation\n",
    "3. Correct spelling mistakes\n",
    "4. Stem words"
   ]
  },
  {
   "cell_type": "code",
   "execution_count": 30,
   "metadata": {
    "collapsed": true
   },
   "outputs": [],
   "source": [
    "# function to remove numbers and punctuation\n",
    "def remove_punct_num(text):\n",
    "    punct = str.maketrans(dict.fromkeys(string.punctuation))\n",
    "    text = text.translate(punct)\n",
    "    digits = str.maketrans(dict.fromkeys(string.digits))\n",
    "    text = text.translate(digits)\n",
    "    return text"
   ]
  },
  {
   "cell_type": "code",
   "execution_count": 31,
   "metadata": {
    "collapsed": true
   },
   "outputs": [],
   "source": [
    "# function to correct spelling\n",
    "def correct_spelling(word):\n",
    "    if not hobj.spell(word):\n",
    "        if word in words_w_apostrophy.keys():\n",
    "            word = words_w_apostrophy[word]\n",
    "        else:\n",
    "            correct_words = hobj.suggest(word)\n",
    "            try:\n",
    "                word = correct_words[0].replace(\"-\", \" \")\n",
    "            except IndexError:\n",
    "                # No correct suggestion for word, remove \n",
    "                word = ''\n",
    "    return word"
   ]
  },
  {
   "cell_type": "code",
   "execution_count": 32,
   "metadata": {
    "collapsed": true
   },
   "outputs": [],
   "source": [
    "# dictionary with words that spell check get's wrong, words with appostrophe\n",
    "words_w_apostrophy = { 'didnt': \"didn't\",\n",
    "                  'dont': \"do not\",\n",
    "                  'wasnt': \"was not\",\n",
    "                  'arent': \"are not\",\n",
    "                  'werent': \"were not\",\n",
    "                  'doesnt': \"does not\",\n",
    "                  'youve': \"you have\",\n",
    "                  'whod': \"who would\",\n",
    "                  'ive': \"i have\",\n",
    "                  'wouldve': \"would have\",\n",
    "                  'im': \"i am\",\n",
    "                  'weve': \"we have\",\n",
    "                  'thats': \"that is\",\n",
    "                  'isnt': \"is not\",\n",
    "                  'theyve': \"they have\",\n",
    "                  'theyre': \"they are\",\n",
    "                  'hasnt': \"has not\"}"
   ]
  },
  {
   "cell_type": "code",
   "execution_count": 33,
   "metadata": {
    "collapsed": true
   },
   "outputs": [],
   "source": [
    "# fuction that stems word\n",
    "def stem(word):\n",
    "    word = hobj.stem(word)\n",
    "    try:\n",
    "        return word[0].decode(\"utf-8\") \n",
    "    except IndexError: #Not real word, no stem available\n",
    "        return ''"
   ]
  },
  {
   "cell_type": "code",
   "execution_count": 35,
   "metadata": {
    "collapsed": true
   },
   "outputs": [],
   "source": [
    "def process_text(text):\n",
    "    # remove punctuation and numbers\n",
    "    text = remove_punct_num(text)\n",
    "    # set everything to lower case\n",
    "    text = text.lower()\n",
    "    # split the string into words for individual processing\n",
    "    words = text.split()\n",
    "    # new list for processed words\n",
    "    processed = []\n",
    "    for word in words:\n",
    "        # correct spelling\n",
    "        word = correct_spelling(word)\n",
    "        # somtimes corrected word contains two new words\n",
    "        # seperated here and porcessed individually\n",
    "        split_words = word.split()\n",
    "        for split_word in split_words:\n",
    "            # remove stop words\n",
    "            if split_word not in stop_words:\n",
    "                # stem the word and append to processed list\n",
    "                processed.append(stem(split_word))\n",
    "    # return a processed string            \n",
    "    return ' '.join(processed)"
   ]
  },
  {
   "cell_type": "markdown",
   "metadata": {},
   "source": [
    "I combine essay questions 1 and 2 as well as 3 and 4 because the number of questions changed after May 17, 2016.\n",
    "Before May 17, 2016, the essay questions were:\n",
    "    \n",
    "* project_essay_1: \"Introduce us to your classroom\"\n",
    "* project_essay_2: \"Tell us more about your students\"\n",
    "* project_essay_3: \"Describe how your students will use the materials you're requesting\"\n",
    "* project_essay_4: \"Close by sharing why your project will make a difference\"\n",
    "\n",
    "Starting on May 17, 2016, the number of essays was reduced from 4 to 2, and the prompts for the first 2 essays were changed to the following:\n",
    "\n",
    "* project_essay_1: \"Describe your students: What makes your students special? Specific details about their background, your neighborhood, and your school are all helpful.\"\n",
    "* project_essay_2: \"About your project: How will these materials make a difference in your students' learning and improve their school lives?\"\n",
    "\n",
    "For all projects with project_submitted_datetime of 2016-05-17 and later, the values of project_essay_3 and project_essay_4 will be NaN."
   ]
  },
  {
   "cell_type": "code",
   "execution_count": 36,
   "metadata": {},
   "outputs": [
    {
     "data": {
      "text/plain": [
       "Timestamp('2016-05-17 09:38:09')"
      ]
     },
     "execution_count": 36,
     "metadata": {},
     "output_type": "execute_result"
    }
   ],
   "source": [
    "max(pre_cleaned_proposals.loc[(pre_cleaned_proposals['datetime']>datetime.datetime(2016, 5, 17))                          \n",
    "                          & (pd.notnull(pre_cleaned_proposals['essay_3'])), 'datetime'])"
   ]
  },
  {
   "cell_type": "code",
   "execution_count": 37,
   "metadata": {},
   "outputs": [
    {
     "data": {
      "text/plain": [
       "Timestamp('2016-05-17 09:38:09')"
      ]
     },
     "execution_count": 37,
     "metadata": {},
     "output_type": "execute_result"
    }
   ],
   "source": [
    "max(pre_cleaned_proposals.loc[(pre_cleaned_proposals['datetime']>datetime.datetime(2016, 5, 17))                          \n",
    "                          & (pd.notnull(pre_cleaned_proposals['essay_4'])), 'datetime'])"
   ]
  },
  {
   "cell_type": "code",
   "execution_count": 38,
   "metadata": {},
   "outputs": [
    {
     "data": {
      "text/html": [
       "<div>\n",
       "<style>\n",
       "    .dataframe thead tr:only-child th {\n",
       "        text-align: right;\n",
       "    }\n",
       "\n",
       "    .dataframe thead th {\n",
       "        text-align: left;\n",
       "    }\n",
       "\n",
       "    .dataframe tbody tr th {\n",
       "        vertical-align: top;\n",
       "    }\n",
       "</style>\n",
       "<table border=\"1\" class=\"dataframe\">\n",
       "  <thead>\n",
       "    <tr style=\"text-align: right;\">\n",
       "      <th></th>\n",
       "      <th>essay_3</th>\n",
       "      <th>essay_4</th>\n",
       "      <th>datetime</th>\n",
       "    </tr>\n",
       "  </thead>\n",
       "  <tbody>\n",
       "    <tr>\n",
       "      <th>87664</th>\n",
       "      <td>My students will use these materials to learn ...</td>\n",
       "      <td>This will make a huge difference because not o...</td>\n",
       "      <td>2016-05-17 00:12:07</td>\n",
       "    </tr>\n",
       "    <tr>\n",
       "      <th>131138</th>\n",
       "      <td>Currently, my students read through all the bo...</td>\n",
       "      <td>Learning to read is the most important thing a...</td>\n",
       "      <td>2016-05-17 00:19:54</td>\n",
       "    </tr>\n",
       "    <tr>\n",
       "      <th>128571</th>\n",
       "      <td>We come to the carpet to work all the time. I ...</td>\n",
       "      <td>Our class will be grateful for donations to ou...</td>\n",
       "      <td>2016-05-17 00:28:54</td>\n",
       "    </tr>\n",
       "    <tr>\n",
       "      <th>50589</th>\n",
       "      <td>Ideally, I would love to have a class set of C...</td>\n",
       "      <td>Even with limited access to technology, my stu...</td>\n",
       "      <td>2016-05-17 00:39:38</td>\n",
       "    </tr>\n",
       "    <tr>\n",
       "      <th>31747</th>\n",
       "      <td>I am requesting 2 Classroom Select Lock Edge R...</td>\n",
       "      <td>At the beginning of the year my class did a le...</td>\n",
       "      <td>2016-05-17 00:44:30</td>\n",
       "    </tr>\n",
       "    <tr>\n",
       "      <th>179380</th>\n",
       "      <td>It is a difficult transition for some children...</td>\n",
       "      <td>Our Kindergarteners are faced with many challe...</td>\n",
       "      <td>2016-05-17 00:45:09</td>\n",
       "    </tr>\n",
       "    <tr>\n",
       "      <th>84789</th>\n",
       "      <td>The iPad will be used as a portal to access on...</td>\n",
       "      <td>The common core state standards are designed t...</td>\n",
       "      <td>2016-05-17 00:46:31</td>\n",
       "    </tr>\n",
       "    <tr>\n",
       "      <th>14609</th>\n",
       "      <td>To improve my students' understanding of the s...</td>\n",
       "      <td>I like to provide my students with as many opp...</td>\n",
       "      <td>2016-05-17 00:52:40</td>\n",
       "    </tr>\n",
       "    <tr>\n",
       "      <th>118459</th>\n",
       "      <td>Students will be able to select a learning spa...</td>\n",
       "      <td>My project will encourage other teachers to ac...</td>\n",
       "      <td>2016-05-17 00:55:25</td>\n",
       "    </tr>\n",
       "    <tr>\n",
       "      <th>132044</th>\n",
       "      <td>The beauty of the cozy shades is that they wil...</td>\n",
       "      <td>Donations to this project will improve my clas...</td>\n",
       "      <td>2016-05-17 01:05:51</td>\n",
       "    </tr>\n",
       "    <tr>\n",
       "      <th>74408</th>\n",
       "      <td>Laptop would be a perfect launching pad for ea...</td>\n",
       "      <td>We will spend time practicing basic keyboardin...</td>\n",
       "      <td>2016-05-17 01:11:04</td>\n",
       "    </tr>\n",
       "    <tr>\n",
       "      <th>16963</th>\n",
       "      <td>Our middle school basketball team is located i...</td>\n",
       "      <td>Your donations will positively impact our stud...</td>\n",
       "      <td>2016-05-17 02:32:47</td>\n",
       "    </tr>\n",
       "    <tr>\n",
       "      <th>74142</th>\n",
       "      <td>I will use these books that are focused on fri...</td>\n",
       "      <td>My goal is for these books and the ensuing dis...</td>\n",
       "      <td>2016-05-17 04:09:44</td>\n",
       "    </tr>\n",
       "    <tr>\n",
       "      <th>900</th>\n",
       "      <td>Kindergarten and 1st grade are just beginning ...</td>\n",
       "      <td>Having these glockenspiels will allow the stud...</td>\n",
       "      <td>2016-05-17 06:10:53</td>\n",
       "    </tr>\n",
       "    <tr>\n",
       "      <th>138581</th>\n",
       "      <td>We'll use these requested Pteranodons, Diatrym...</td>\n",
       "      <td>Your support of my project will bring exciting...</td>\n",
       "      <td>2016-05-17 08:03:45</td>\n",
       "    </tr>\n",
       "    <tr>\n",
       "      <th>179315</th>\n",
       "      <td>My students will be able to take their video a...</td>\n",
       "      <td>By having the IPads, my students will have mor...</td>\n",
       "      <td>2016-05-17 08:28:30</td>\n",
       "    </tr>\n",
       "    <tr>\n",
       "      <th>142936</th>\n",
       "      <td>Empowering Students Through Art is my goal.  M...</td>\n",
       "      <td>Opening up the doors to creativity allows my s...</td>\n",
       "      <td>2016-05-17 08:35:36</td>\n",
       "    </tr>\n",
       "    <tr>\n",
       "      <th>85746</th>\n",
       "      <td>We will discuss the book and concentrate on th...</td>\n",
       "      <td>This project will impact the students' lives b...</td>\n",
       "      <td>2016-05-17 08:44:57</td>\n",
       "    </tr>\n",
       "    <tr>\n",
       "      <th>175484</th>\n",
       "      <td>The materials I am requesting will be used by ...</td>\n",
       "      <td>By donating to our project, you will help stud...</td>\n",
       "      <td>2016-05-17 08:50:53</td>\n",
       "    </tr>\n",
       "    <tr>\n",
       "      <th>135471</th>\n",
       "      <td>I currently have 4 standing desks in my class ...</td>\n",
       "      <td>This donation would greatly help my students. ...</td>\n",
       "      <td>2016-05-17 08:54:17</td>\n",
       "    </tr>\n",
       "    <tr>\n",
       "      <th>49723</th>\n",
       "      <td>Children with autism often need a specialized ...</td>\n",
       "      <td>My students deserve an appropriate education t...</td>\n",
       "      <td>2016-05-17 08:57:49</td>\n",
       "    </tr>\n",
       "    <tr>\n",
       "      <th>179572</th>\n",
       "      <td>We take eating and feeding ourselves for grant...</td>\n",
       "      <td>Adaptive feeding tools are important to teach ...</td>\n",
       "      <td>2016-05-17 08:59:45</td>\n",
       "    </tr>\n",
       "    <tr>\n",
       "      <th>80774</th>\n",
       "      <td>My students will use a variety of apps to list...</td>\n",
       "      <td>Using technology for independent practice will...</td>\n",
       "      <td>2016-05-17 09:04:54</td>\n",
       "    </tr>\n",
       "    <tr>\n",
       "      <th>72262</th>\n",
       "      <td>These book cases will give us more space for o...</td>\n",
       "      <td>By donating to our project, you will help give...</td>\n",
       "      <td>2016-05-17 09:07:59</td>\n",
       "    </tr>\n",
       "    <tr>\n",
       "      <th>51107</th>\n",
       "      <td>The students will use the soccer balls, footba...</td>\n",
       "      <td>With the soccer balls, footballs, and basketba...</td>\n",
       "      <td>2016-05-17 09:09:52</td>\n",
       "    </tr>\n",
       "    <tr>\n",
       "      <th>133343</th>\n",
       "      <td>Each student will get a workbook.  When I leav...</td>\n",
       "      <td>I am 37 weeks pregnant and I am responsible fo...</td>\n",
       "      <td>2016-05-17 09:10:46</td>\n",
       "    </tr>\n",
       "    <tr>\n",
       "      <th>31911</th>\n",
       "      <td>In my English classes, written communication i...</td>\n",
       "      <td>This type of communication- via electronic dev...</td>\n",
       "      <td>2016-05-17 09:12:57</td>\n",
       "    </tr>\n",
       "    <tr>\n",
       "      <th>165972</th>\n",
       "      <td>Having these graphing calculators will improve...</td>\n",
       "      <td>Having to spend less time on homework or at sc...</td>\n",
       "      <td>2016-05-17 09:37:49</td>\n",
       "    </tr>\n",
       "    <tr>\n",
       "      <th>66153</th>\n",
       "      <td>I am asking for a river aquarium with animals,...</td>\n",
       "      <td>This aquarium and terrarium will have a huge i...</td>\n",
       "      <td>2016-05-17 09:38:09</td>\n",
       "    </tr>\n",
       "    <tr>\n",
       "      <th>18260</th>\n",
       "      <td>NaN</td>\n",
       "      <td>NaN</td>\n",
       "      <td>2016-05-17 10:00:51</td>\n",
       "    </tr>\n",
       "    <tr>\n",
       "      <th>72192</th>\n",
       "      <td>NaN</td>\n",
       "      <td>NaN</td>\n",
       "      <td>2016-05-17 10:11:45</td>\n",
       "    </tr>\n",
       "    <tr>\n",
       "      <th>169414</th>\n",
       "      <td>NaN</td>\n",
       "      <td>NaN</td>\n",
       "      <td>2016-05-17 10:12:21</td>\n",
       "    </tr>\n",
       "    <tr>\n",
       "      <th>137751</th>\n",
       "      <td>NaN</td>\n",
       "      <td>NaN</td>\n",
       "      <td>2016-05-17 10:16:55</td>\n",
       "    </tr>\n",
       "    <tr>\n",
       "      <th>32726</th>\n",
       "      <td>NaN</td>\n",
       "      <td>NaN</td>\n",
       "      <td>2016-05-17 10:28:17</td>\n",
       "    </tr>\n",
       "    <tr>\n",
       "      <th>172471</th>\n",
       "      <td>NaN</td>\n",
       "      <td>NaN</td>\n",
       "      <td>2016-05-17 10:37:43</td>\n",
       "    </tr>\n",
       "    <tr>\n",
       "      <th>89760</th>\n",
       "      <td>NaN</td>\n",
       "      <td>NaN</td>\n",
       "      <td>2016-05-17 10:51:31</td>\n",
       "    </tr>\n",
       "    <tr>\n",
       "      <th>73909</th>\n",
       "      <td>NaN</td>\n",
       "      <td>NaN</td>\n",
       "      <td>2016-05-17 10:57:05</td>\n",
       "    </tr>\n",
       "    <tr>\n",
       "      <th>89849</th>\n",
       "      <td>NaN</td>\n",
       "      <td>NaN</td>\n",
       "      <td>2016-05-17 10:58:40</td>\n",
       "    </tr>\n",
       "    <tr>\n",
       "      <th>95837</th>\n",
       "      <td>NaN</td>\n",
       "      <td>NaN</td>\n",
       "      <td>2016-05-17 11:09:31</td>\n",
       "    </tr>\n",
       "    <tr>\n",
       "      <th>84236</th>\n",
       "      <td>NaN</td>\n",
       "      <td>NaN</td>\n",
       "      <td>2016-05-17 11:09:53</td>\n",
       "    </tr>\n",
       "    <tr>\n",
       "      <th>115809</th>\n",
       "      <td>NaN</td>\n",
       "      <td>NaN</td>\n",
       "      <td>2016-05-17 11:15:39</td>\n",
       "    </tr>\n",
       "    <tr>\n",
       "      <th>94074</th>\n",
       "      <td>NaN</td>\n",
       "      <td>NaN</td>\n",
       "      <td>2016-05-17 11:18:52</td>\n",
       "    </tr>\n",
       "    <tr>\n",
       "      <th>87272</th>\n",
       "      <td>NaN</td>\n",
       "      <td>NaN</td>\n",
       "      <td>2016-05-17 11:36:13</td>\n",
       "    </tr>\n",
       "    <tr>\n",
       "      <th>89028</th>\n",
       "      <td>NaN</td>\n",
       "      <td>NaN</td>\n",
       "      <td>2016-05-17 11:42:03</td>\n",
       "    </tr>\n",
       "    <tr>\n",
       "      <th>91600</th>\n",
       "      <td>NaN</td>\n",
       "      <td>NaN</td>\n",
       "      <td>2016-05-17 11:44:44</td>\n",
       "    </tr>\n",
       "    <tr>\n",
       "      <th>22201</th>\n",
       "      <td>NaN</td>\n",
       "      <td>NaN</td>\n",
       "      <td>2016-05-17 11:51:19</td>\n",
       "    </tr>\n",
       "    <tr>\n",
       "      <th>54391</th>\n",
       "      <td>NaN</td>\n",
       "      <td>NaN</td>\n",
       "      <td>2016-05-17 11:51:54</td>\n",
       "    </tr>\n",
       "    <tr>\n",
       "      <th>175893</th>\n",
       "      <td>NaN</td>\n",
       "      <td>NaN</td>\n",
       "      <td>2016-05-17 11:54:24</td>\n",
       "    </tr>\n",
       "    <tr>\n",
       "      <th>83985</th>\n",
       "      <td>NaN</td>\n",
       "      <td>NaN</td>\n",
       "      <td>2016-05-17 11:54:48</td>\n",
       "    </tr>\n",
       "    <tr>\n",
       "      <th>172603</th>\n",
       "      <td>NaN</td>\n",
       "      <td>NaN</td>\n",
       "      <td>2016-05-17 11:56:33</td>\n",
       "    </tr>\n",
       "    <tr>\n",
       "      <th>148178</th>\n",
       "      <td>NaN</td>\n",
       "      <td>NaN</td>\n",
       "      <td>2016-05-17 11:57:42</td>\n",
       "    </tr>\n",
       "  </tbody>\n",
       "</table>\n",
       "</div>"
      ],
      "text/plain": [
       "                                                  essay_3  \\\n",
       "87664   My students will use these materials to learn ...   \n",
       "131138  Currently, my students read through all the bo...   \n",
       "128571  We come to the carpet to work all the time. I ...   \n",
       "50589   Ideally, I would love to have a class set of C...   \n",
       "31747   I am requesting 2 Classroom Select Lock Edge R...   \n",
       "179380  It is a difficult transition for some children...   \n",
       "84789   The iPad will be used as a portal to access on...   \n",
       "14609   To improve my students' understanding of the s...   \n",
       "118459  Students will be able to select a learning spa...   \n",
       "132044  The beauty of the cozy shades is that they wil...   \n",
       "74408   Laptop would be a perfect launching pad for ea...   \n",
       "16963   Our middle school basketball team is located i...   \n",
       "74142   I will use these books that are focused on fri...   \n",
       "900     Kindergarten and 1st grade are just beginning ...   \n",
       "138581  We'll use these requested Pteranodons, Diatrym...   \n",
       "179315  My students will be able to take their video a...   \n",
       "142936  Empowering Students Through Art is my goal.  M...   \n",
       "85746   We will discuss the book and concentrate on th...   \n",
       "175484  The materials I am requesting will be used by ...   \n",
       "135471  I currently have 4 standing desks in my class ...   \n",
       "49723   Children with autism often need a specialized ...   \n",
       "179572  We take eating and feeding ourselves for grant...   \n",
       "80774   My students will use a variety of apps to list...   \n",
       "72262   These book cases will give us more space for o...   \n",
       "51107   The students will use the soccer balls, footba...   \n",
       "133343  Each student will get a workbook.  When I leav...   \n",
       "31911   In my English classes, written communication i...   \n",
       "165972  Having these graphing calculators will improve...   \n",
       "66153   I am asking for a river aquarium with animals,...   \n",
       "18260                                                 NaN   \n",
       "72192                                                 NaN   \n",
       "169414                                                NaN   \n",
       "137751                                                NaN   \n",
       "32726                                                 NaN   \n",
       "172471                                                NaN   \n",
       "89760                                                 NaN   \n",
       "73909                                                 NaN   \n",
       "89849                                                 NaN   \n",
       "95837                                                 NaN   \n",
       "84236                                                 NaN   \n",
       "115809                                                NaN   \n",
       "94074                                                 NaN   \n",
       "87272                                                 NaN   \n",
       "89028                                                 NaN   \n",
       "91600                                                 NaN   \n",
       "22201                                                 NaN   \n",
       "54391                                                 NaN   \n",
       "175893                                                NaN   \n",
       "83985                                                 NaN   \n",
       "172603                                                NaN   \n",
       "148178                                                NaN   \n",
       "\n",
       "                                                  essay_4            datetime  \n",
       "87664   This will make a huge difference because not o... 2016-05-17 00:12:07  \n",
       "131138  Learning to read is the most important thing a... 2016-05-17 00:19:54  \n",
       "128571  Our class will be grateful for donations to ou... 2016-05-17 00:28:54  \n",
       "50589   Even with limited access to technology, my stu... 2016-05-17 00:39:38  \n",
       "31747   At the beginning of the year my class did a le... 2016-05-17 00:44:30  \n",
       "179380  Our Kindergarteners are faced with many challe... 2016-05-17 00:45:09  \n",
       "84789   The common core state standards are designed t... 2016-05-17 00:46:31  \n",
       "14609   I like to provide my students with as many opp... 2016-05-17 00:52:40  \n",
       "118459  My project will encourage other teachers to ac... 2016-05-17 00:55:25  \n",
       "132044  Donations to this project will improve my clas... 2016-05-17 01:05:51  \n",
       "74408   We will spend time practicing basic keyboardin... 2016-05-17 01:11:04  \n",
       "16963   Your donations will positively impact our stud... 2016-05-17 02:32:47  \n",
       "74142   My goal is for these books and the ensuing dis... 2016-05-17 04:09:44  \n",
       "900     Having these glockenspiels will allow the stud... 2016-05-17 06:10:53  \n",
       "138581  Your support of my project will bring exciting... 2016-05-17 08:03:45  \n",
       "179315  By having the IPads, my students will have mor... 2016-05-17 08:28:30  \n",
       "142936  Opening up the doors to creativity allows my s... 2016-05-17 08:35:36  \n",
       "85746   This project will impact the students' lives b... 2016-05-17 08:44:57  \n",
       "175484  By donating to our project, you will help stud... 2016-05-17 08:50:53  \n",
       "135471  This donation would greatly help my students. ... 2016-05-17 08:54:17  \n",
       "49723   My students deserve an appropriate education t... 2016-05-17 08:57:49  \n",
       "179572  Adaptive feeding tools are important to teach ... 2016-05-17 08:59:45  \n",
       "80774   Using technology for independent practice will... 2016-05-17 09:04:54  \n",
       "72262   By donating to our project, you will help give... 2016-05-17 09:07:59  \n",
       "51107   With the soccer balls, footballs, and basketba... 2016-05-17 09:09:52  \n",
       "133343  I am 37 weeks pregnant and I am responsible fo... 2016-05-17 09:10:46  \n",
       "31911   This type of communication- via electronic dev... 2016-05-17 09:12:57  \n",
       "165972  Having to spend less time on homework or at sc... 2016-05-17 09:37:49  \n",
       "66153   This aquarium and terrarium will have a huge i... 2016-05-17 09:38:09  \n",
       "18260                                                 NaN 2016-05-17 10:00:51  \n",
       "72192                                                 NaN 2016-05-17 10:11:45  \n",
       "169414                                                NaN 2016-05-17 10:12:21  \n",
       "137751                                                NaN 2016-05-17 10:16:55  \n",
       "32726                                                 NaN 2016-05-17 10:28:17  \n",
       "172471                                                NaN 2016-05-17 10:37:43  \n",
       "89760                                                 NaN 2016-05-17 10:51:31  \n",
       "73909                                                 NaN 2016-05-17 10:57:05  \n",
       "89849                                                 NaN 2016-05-17 10:58:40  \n",
       "95837                                                 NaN 2016-05-17 11:09:31  \n",
       "84236                                                 NaN 2016-05-17 11:09:53  \n",
       "115809                                                NaN 2016-05-17 11:15:39  \n",
       "94074                                                 NaN 2016-05-17 11:18:52  \n",
       "87272                                                 NaN 2016-05-17 11:36:13  \n",
       "89028                                                 NaN 2016-05-17 11:42:03  \n",
       "91600                                                 NaN 2016-05-17 11:44:44  \n",
       "22201                                                 NaN 2016-05-17 11:51:19  \n",
       "54391                                                 NaN 2016-05-17 11:51:54  \n",
       "175893                                                NaN 2016-05-17 11:54:24  \n",
       "83985                                                 NaN 2016-05-17 11:54:48  \n",
       "172603                                                NaN 2016-05-17 11:56:33  \n",
       "148178                                                NaN 2016-05-17 11:57:42  "
      ]
     },
     "execution_count": 38,
     "metadata": {},
     "output_type": "execute_result"
    }
   ],
   "source": [
    "pre_cleaned_proposals.loc[(pre_cleaned_proposals['datetime']>datetime.datetime(2016, 5, 17))                          \n",
    "                          & (pre_cleaned_proposals['datetime']<datetime.datetime(2016, 5, 17, 12))\n",
    "                             , ['essay_3', 'essay_4', 'datetime']].sort_values('datetime')"
   ]
  },
  {
   "cell_type": "code",
   "execution_count": 39,
   "metadata": {},
   "outputs": [
    {
     "data": {
      "text/plain": [
       "175706"
      ]
     },
     "execution_count": 39,
     "metadata": {},
     "output_type": "execute_result"
    }
   ],
   "source": [
    "pre_cleaned_proposals['essay_3'].isnull().sum()"
   ]
  },
  {
   "cell_type": "code",
   "execution_count": 40,
   "metadata": {},
   "outputs": [
    {
     "data": {
      "text/plain": [
       "175706"
      ]
     },
     "execution_count": 40,
     "metadata": {},
     "output_type": "execute_result"
    }
   ],
   "source": [
    "pre_cleaned_proposals['essay_4'].isnull().sum()"
   ]
  },
  {
   "cell_type": "markdown",
   "metadata": {},
   "source": [
    "##### Combine questions 1 and 2, for proposals before May 17, 2016"
   ]
  },
  {
   "cell_type": "code",
   "execution_count": 41,
   "metadata": {
    "collapsed": true
   },
   "outputs": [],
   "source": [
    "pre_cleaned_proposals.loc[(pre_cleaned_proposals['datetime']<datetime.datetime(2016, 5, 17, 9, 39)),\n",
    "                        'essay1'] = pre_cleaned_proposals['essay_1'] + ' ' + pre_cleaned_proposals['essay_2']"
   ]
  },
  {
   "cell_type": "code",
   "execution_count": 42,
   "metadata": {},
   "outputs": [
    {
     "data": {
      "text/plain": [
       "175706"
      ]
     },
     "execution_count": 42,
     "metadata": {},
     "output_type": "execute_result"
    }
   ],
   "source": [
    "pre_cleaned_proposals['essay1'].isnull().sum()"
   ]
  },
  {
   "cell_type": "code",
   "execution_count": 43,
   "metadata": {
    "collapsed": true
   },
   "outputs": [],
   "source": [
    "pre_cleaned_proposals.loc[(pre_cleaned_proposals['datetime']>datetime.datetime(2016, 5, 17, 9, 39)),\n",
    "                        'essay1'] = pre_cleaned_proposals['essay_1']"
   ]
  },
  {
   "cell_type": "code",
   "execution_count": 44,
   "metadata": {},
   "outputs": [
    {
     "data": {
      "text/plain": [
       "0"
      ]
     },
     "execution_count": 44,
     "metadata": {},
     "output_type": "execute_result"
    }
   ],
   "source": [
    "# check\n",
    "pre_cleaned_proposals['essay1'].isnull().sum()"
   ]
  },
  {
   "cell_type": "markdown",
   "metadata": {},
   "source": [
    "##### Combine questions 3 and 4, for proposals before May 17, 2016"
   ]
  },
  {
   "cell_type": "code",
   "execution_count": 45,
   "metadata": {
    "collapsed": true
   },
   "outputs": [],
   "source": [
    "pre_cleaned_proposals.loc[(pre_cleaned_proposals['datetime']<datetime.datetime(2016, 5, 17, 9, 39)),\n",
    "                        'essay2'] = pre_cleaned_proposals['essay_3'] + ' ' + pre_cleaned_proposals['essay_4']"
   ]
  },
  {
   "cell_type": "code",
   "execution_count": 46,
   "metadata": {},
   "outputs": [
    {
     "data": {
      "text/plain": [
       "175706"
      ]
     },
     "execution_count": 46,
     "metadata": {},
     "output_type": "execute_result"
    }
   ],
   "source": [
    "pre_cleaned_proposals['essay2'].isnull().sum()"
   ]
  },
  {
   "cell_type": "code",
   "execution_count": 47,
   "metadata": {
    "collapsed": true
   },
   "outputs": [],
   "source": [
    "pre_cleaned_proposals.loc[(pre_cleaned_proposals['datetime']>datetime.datetime(2016, 5, 17, 9, 39)),\n",
    "                        'essay2'] = pre_cleaned_proposals['essay_2'] "
   ]
  },
  {
   "cell_type": "code",
   "execution_count": 48,
   "metadata": {},
   "outputs": [
    {
     "data": {
      "text/plain": [
       "0"
      ]
     },
     "execution_count": 48,
     "metadata": {},
     "output_type": "execute_result"
    }
   ],
   "source": [
    "pre_cleaned_proposals['essay2'].isnull().sum()"
   ]
  },
  {
   "cell_type": "markdown",
   "metadata": {},
   "source": [
    "###### Clean all text columns"
   ]
  },
  {
   "cell_type": "code",
   "execution_count": 49,
   "metadata": {
    "collapsed": true
   },
   "outputs": [],
   "source": [
    "text_columns = ['essay1',\n",
    "                'essay2',\n",
    "                'resource_summary',\n",
    "                'total_description']"
   ]
  },
  {
   "cell_type": "code",
   "execution_count": 50,
   "metadata": {},
   "outputs": [
    {
     "name": "stdout",
     "output_type": "stream",
     "text": [
      "essay1\n",
      "essay2\n",
      "resource_summary\n",
      "total_description\n"
     ]
    }
   ],
   "source": [
    "for column in text_columns:\n",
    "    print(column)\n",
    "    new_col_name = 'c_' + column\n",
    "    pre_cleaned_proposals[new_col_name] = pre_cleaned_proposals[column].apply(process_text)"
   ]
  },
  {
   "cell_type": "code",
   "execution_count": 51,
   "metadata": {
    "collapsed": true
   },
   "outputs": [],
   "source": [
    "pre_cleaned_proposals.to_pickle('pre_cleaned_proposals.pkl')"
   ]
  },
  {
   "cell_type": "code",
   "execution_count": null,
   "metadata": {
    "collapsed": true
   },
   "outputs": [],
   "source": []
  }
 ],
 "metadata": {
  "kernelspec": {
   "display_name": "Python 3",
   "language": "python",
   "name": "python3"
  },
  "language_info": {
   "codemirror_mode": {
    "name": "ipython",
    "version": 3
   },
   "file_extension": ".py",
   "mimetype": "text/x-python",
   "name": "python",
   "nbconvert_exporter": "python",
   "pygments_lexer": "ipython3",
   "version": "3.6.2"
  }
 },
 "nbformat": 4,
 "nbformat_minor": 2
}
