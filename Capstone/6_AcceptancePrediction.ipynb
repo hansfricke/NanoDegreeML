{
 "cells": [
  {
   "cell_type": "markdown",
   "metadata": {},
   "source": [
    "# Capstone Project: Udacity Machine Learning Engineer\n",
    "## Hans Fricke 2018\n",
    "## Approval prediction"
   ]
  },
  {
   "cell_type": "code",
   "execution_count": 1,
   "metadata": {
    "collapsed": true
   },
   "outputs": [],
   "source": [
    "# import packages\n",
    "import pandas as pd\n",
    "import os\n",
    "import numpy as np\n",
    "import pprint\n",
    "import time\n",
    "import matplotlib\n",
    "import matplotlib.pyplot as plt\n",
    "import seaborn as sns\n",
    "from sklearn.model_selection import train_test_split\n",
    "from sklearn.preprocessing import StandardScaler\n",
    "from sklearn.linear_model import LogisticRegression\n",
    "from sklearn.ensemble import RandomForestClassifier\n",
    "from sklearn.linear_model import SGDClassifier\n",
    "from sklearn.metrics import make_scorer\n",
    "from sklearn.model_selection import GridSearchCV\n",
    "from sklearn.metrics import f1_score\n",
    "from sklearn.metrics import roc_auc_score\n",
    "from sklearn.metrics import accuracy_score\n",
    "from sklearn.metrics import confusion_matrix"
   ]
  },
  {
   "cell_type": "code",
   "execution_count": 2,
   "metadata": {
    "collapsed": true
   },
   "outputs": [],
   "source": [
    "# display formatting \n",
    "%matplotlib inline \n",
    "pd.options.display.float_format = '{:20,.2f}'.format\n",
    "\n",
    "# change working directory\n",
    "os.chdir(\"/Users/hansfricke/Dropbox/ND ML Engineer/Capstone\")"
   ]
  },
  {
   "cell_type": "code",
   "execution_count": 3,
   "metadata": {
    "collapsed": true
   },
   "outputs": [],
   "source": [
    "data = pd.read_pickle('Data/final_data.pkl')"
   ]
  },
  {
   "cell_type": "markdown",
   "metadata": {},
   "source": [
    "### Splitting data in training and testing samples"
   ]
  },
  {
   "cell_type": "code",
   "execution_count": 4,
   "metadata": {
    "collapsed": true
   },
   "outputs": [],
   "source": [
    "# get a list of all column names in the data set\n",
    "x_cols = list(data.columns)"
   ]
  },
  {
   "cell_type": "code",
   "execution_count": 5,
   "metadata": {
    "collapsed": true
   },
   "outputs": [],
   "source": [
    "# only keep feature names by removing id and approval status\n",
    "x_cols.remove('id')\n",
    "x_cols.remove('approved')"
   ]
  },
  {
   "cell_type": "code",
   "execution_count": 6,
   "metadata": {
    "collapsed": true
   },
   "outputs": [],
   "source": [
    "# split the data into training and test data set\n",
    "X_train, X_test, y_train, y_test = train_test_split(data[x_cols], data['approved'], test_size=0.25, random_state=42)"
   ]
  },
  {
   "cell_type": "markdown",
   "metadata": {},
   "source": [
    "### Define three different sets features used to predict approval\n",
    "1. All meta data\n",
    "2. All meta data + NMF topic loadings\n",
    "3. All meta data + PCA components\n",
    "\n",
    "This allows me to understand which of the dimansionality reduction techniques was more suited for this classification problem."
   ]
  },
  {
   "cell_type": "code",
   "execution_count": 7,
   "metadata": {
    "collapsed": true
   },
   "outputs": [],
   "source": [
    "# no text information\n",
    "X_train1 = X_train.loc[:,:'num_items']\n",
    "X_test1 = X_test.loc[:,:'num_items']\n",
    "# nmf topics\n",
    "X_train2 = X_train.loc[:,:'c_total_descriptionTopic1']\n",
    "X_test2 = X_test.loc[:,:'c_total_descriptionTopic1']\n",
    "# pca components\n",
    "X_train3 = X_train.drop([ 'c_essay1Topic0',\n",
    "                         'c_essay1Topic1',\n",
    "                         'c_essay2Topic0',\n",
    "                         'c_essay2Topic1',\n",
    "                         'c_resource_summaryTopic0',\n",
    "                         'c_resource_summaryTopic1',\n",
    "                         'c_resource_summaryTopic2',\n",
    "                         'c_total_descriptionTopic0',\n",
    "                         'c_total_descriptionTopic1'], axis=1)\n",
    "X_test3 = X_test.drop([ 'c_essay1Topic0',\n",
    "                         'c_essay1Topic1',\n",
    "                         'c_essay2Topic0',\n",
    "                         'c_essay2Topic1',\n",
    "                         'c_resource_summaryTopic0',\n",
    "                         'c_resource_summaryTopic1',\n",
    "                         'c_resource_summaryTopic2',\n",
    "                         'c_total_descriptionTopic0',\n",
    "                         'c_total_descriptionTopic1'], axis=1)"
   ]
  },
  {
   "cell_type": "code",
   "execution_count": 8,
   "metadata": {
    "collapsed": true
   },
   "outputs": [],
   "source": [
    "datasets = {'NoText': {'X_train': X_train1,\n",
    "                        'X_test': X_test1},\n",
    "            'withNMF': {'X_train': X_train2,\n",
    "                        'X_test': X_test2},\n",
    "            'withPCA': {'X_train': X_train3,\n",
    "                        'X_test': X_test3}}"
   ]
  },
  {
   "cell_type": "markdown",
   "metadata": {},
   "source": [
    "### Scale features to have mean zero and standard deviation one"
   ]
  },
  {
   "cell_type": "code",
   "execution_count": 9,
   "metadata": {
    "collapsed": true
   },
   "outputs": [],
   "source": [
    "def scale(train, test):\n",
    "    scaler = StandardScaler()\n",
    "    scaler.fit(train)  \n",
    "    train = scaler.transform(train)\n",
    "    test = scaler.transform(test)\n",
    "    return train, test"
   ]
  },
  {
   "cell_type": "code",
   "execution_count": 10,
   "metadata": {
    "collapsed": true
   },
   "outputs": [],
   "source": [
    "for dataset in datasets.values():\n",
    "    dataset['X_train'], dataset['X_test'] = scale(dataset['X_train'], dataset['X_test'])"
   ]
  },
  {
   "cell_type": "markdown",
   "metadata": {},
   "source": [
    "### Functions to implement the classification and evaluation"
   ]
  },
  {
   "cell_type": "markdown",
   "metadata": {},
   "source": [
    "#### Function to train model with grid search"
   ]
  },
  {
   "cell_type": "code",
   "execution_count": 11,
   "metadata": {
    "collapsed": true
   },
   "outputs": [],
   "source": [
    "def train_model(classifier, parameters, X, y, scorer=None):\n",
    "    clf = GridSearchCV(classifier, parameters, scoring=scorer)\n",
    "    clf.fit(X, y)\n",
    "    return clf"
   ]
  },
  {
   "cell_type": "markdown",
   "metadata": {},
   "source": [
    "#### Function to calculate accuracy, f1-score, and the area under ROC curve"
   ]
  },
  {
   "cell_type": "code",
   "execution_count": 12,
   "metadata": {
    "collapsed": true
   },
   "outputs": [],
   "source": [
    "def get_metrics(trained_classifier, X_test, y_test):\n",
    "    pred = trained_classifier.predict(X_test)\n",
    "    acc = accuracy_score(y_test, pred)\n",
    "    f1 = f1_score(y_test, pred)\n",
    "    roc = roc_auc_score(y_test, pred)\n",
    "    return acc, f1, roc"
   ]
  },
  {
   "cell_type": "markdown",
   "metadata": {},
   "source": [
    "#### Fuction to return the best parameter combination"
   ]
  },
  {
   "cell_type": "code",
   "execution_count": 13,
   "metadata": {
    "collapsed": true
   },
   "outputs": [],
   "source": [
    "def get_best_parametres(gridsearch_obj):\n",
    "    return gridsearch_obj.best_params_"
   ]
  },
  {
   "cell_type": "markdown",
   "metadata": {},
   "source": [
    "#### Function to fit all specifed algoritms and features sets"
   ]
  },
  {
   "cell_type": "code",
   "execution_count": 14,
   "metadata": {
    "collapsed": true
   },
   "outputs": [],
   "source": [
    "# algorithms has to be a dictionary that contains the algorithm classes and the parameter grids\n",
    "def fit_all_models(algorithms, scorer = None):\n",
    "    fitted_algorithms = {}\n",
    "    # iterates over the dictionary with each algorithm\n",
    "    for algo_name, algorithm in algorithms.items():\n",
    "        print('****', algo_name, '****')\n",
    "        sets = {}\n",
    "        start = time.time()\n",
    "        # iterates over feature sets\n",
    "        for set_name, dataset in datasets.items():\n",
    "            # uses grid search to fit the algorithm\n",
    "            sets[set_name] = train_model(algorithm['classifier'],\n",
    "                                         algorithm['params'],\n",
    "                                         dataset['X_train'],\n",
    "                                         y_train, \n",
    "                                         scorer=scorer)\n",
    "            end = time.time()\n",
    "            print(\"{0}: {1:.2f} minutes\".format(set_name, (end - start)/60))\n",
    "        fitted_algorithms[algo_name] = sets\n",
    "    # returns fitted gridsearch object    \n",
    "    return fitted_algorithms"
   ]
  },
  {
   "cell_type": "markdown",
   "metadata": {},
   "source": [
    "#### Function that returns the best parameter combination for each algorithm and feature set"
   ]
  },
  {
   "cell_type": "code",
   "execution_count": 15,
   "metadata": {
    "collapsed": true
   },
   "outputs": [],
   "source": [
    "def get_all_parameters(fitted):\n",
    "    best_parameters = {}\n",
    "    for algo_name, algorithm in fitted.items():\n",
    "        sets = {}\n",
    "        for set_name, dataset in datasets.items():\n",
    "            sets[set_name] = get_best_parametres(algorithm[set_name])\n",
    "        best_parameters[algo_name] = sets    \n",
    "    return best_parameters"
   ]
  },
  {
   "cell_type": "markdown",
   "metadata": {},
   "source": [
    "#### Function that returns the all three scores for each algorithm (with best parameters) and feature set"
   ]
  },
  {
   "cell_type": "code",
   "execution_count": 16,
   "metadata": {
    "collapsed": true
   },
   "outputs": [],
   "source": [
    "def get_all_scores(fitted):\n",
    "    scores = {}\n",
    "    for algo_name, algorithm in fitted.items():\n",
    "        sets = {}\n",
    "        for set_name, dataset in datasets.items():\n",
    "            sets[set_name] = [*get_metrics(algorithm[set_name], dataset['X_test'], y_test)]\n",
    "        scores[algo_name] = sets    \n",
    "    return scores"
   ]
  },
  {
   "cell_type": "markdown",
   "metadata": {},
   "source": [
    "#### Function that creates a dataframe with the score suitable for seaborn's factorplot "
   ]
  },
  {
   "cell_type": "code",
   "execution_count": 17,
   "metadata": {
    "collapsed": true
   },
   "outputs": [],
   "source": [
    "def reshape_data(scores):\n",
    "    stacked_scores = []\n",
    "    stacked_datasets = []\n",
    "    stacked_models = []\n",
    "    for model_name, model in scores.items():\n",
    "        for set_name, dataset in model.items():\n",
    "            stacked_scores.extend([*dataset])\n",
    "            stacked_datasets.extend(3*[set_name])\n",
    "            stacked_models.extend(3*[model_name])\n",
    "    data = {'Metric': 9*['Accuracy', 'F1', 'ROC'],\n",
    "            'Score': stacked_scores,\n",
    "            'Dataset': stacked_datasets,\n",
    "            'Model': stacked_models}\n",
    "    return pd.DataFrame(data)"
   ]
  },
  {
   "cell_type": "markdown",
   "metadata": {},
   "source": [
    "#### Function that plots the resuts with seaborn's factorplot"
   ]
  },
  {
   "cell_type": "code",
   "execution_count": 18,
   "metadata": {
    "collapsed": true
   },
   "outputs": [],
   "source": [
    "def performance_plot(scores, path, name):\n",
    "    graph_data = reshape_data(scores)\n",
    "    g = sns.factorplot(x='Model', \n",
    "                   y='Score', \n",
    "                   hue='Dataset', \n",
    "                   data=graph_data, \n",
    "                   kind='bar', \n",
    "                   palette=\"BuGn_d\", \n",
    "                   col='Metric')\n",
    "    g.fig.suptitle(name, y=1.05)\n",
    "    save_as = path + \"/\" + name + \".png\"\n",
    "    plt.savefig(save_as)\n",
    "    plt.show()"
   ]
  },
  {
   "cell_type": "markdown",
   "metadata": {},
   "source": [
    "### First iteration"
   ]
  },
  {
   "cell_type": "markdown",
   "metadata": {},
   "source": [
    "#### Specify algorithms and parameters for grid search"
   ]
  },
  {
   "cell_type": "code",
   "execution_count": 21,
   "metadata": {
    "collapsed": true
   },
   "outputs": [],
   "source": [
    "algorithms = {'Logit': {'classifier': LogisticRegression(random_state=879),\n",
    "                       'params': {}},\n",
    "              'Random Forrest': {'classifier': RandomForestClassifier(random_state=98798, n_jobs=-1),\n",
    "                                'params': {'max_depth': range(1,22,2),\n",
    "                                            'min_impurity_decrease': [i/10000 for i in range(0,10)]}},\n",
    "              'SGD':{'classifier': SGDClassifier(random_state=67876, n_jobs=-1, max_iter=50),\n",
    "                    'params': {'alpha': [i/10000 for i in range(1,10)],\n",
    "                                'tol': [i/100 for i in range(1,10)]}}\n",
    "}"
   ]
  },
  {
   "cell_type": "markdown",
   "metadata": {},
   "source": [
    "#### Use the area under the ROC curve for validation"
   ]
  },
  {
   "cell_type": "code",
   "execution_count": 22,
   "metadata": {
    "collapsed": true
   },
   "outputs": [],
   "source": [
    "roc_scorer = make_scorer(roc_auc_score)"
   ]
  },
  {
   "cell_type": "markdown",
   "metadata": {},
   "source": [
    "#### Cross-validate the models"
   ]
  },
  {
   "cell_type": "code",
   "execution_count": 21,
   "metadata": {},
   "outputs": [
    {
     "name": "stdout",
     "output_type": "stream",
     "text": [
      "**** Logit ****\n",
      "NoText: 0.25 minutes\n",
      "withNMF: 0.53 minutes\n",
      "withPCA: 1.06 minutes\n",
      "**** Random Forrest ****\n",
      "NoText: 4.55 minutes\n",
      "withNMF: 9.54 minutes\n",
      "withPCA: 18.79 minutes\n",
      "**** SGD ****\n",
      "NoText: 1.42 minutes\n",
      "withNMF: 2.86 minutes\n",
      "withPCA: 5.86 minutes\n"
     ]
    }
   ],
   "source": [
    "fitted = fit_all_models(algorithms, scorer=roc_scorer)"
   ]
  },
  {
   "cell_type": "markdown",
   "metadata": {},
   "source": [
    "#### Show parameters"
   ]
  },
  {
   "cell_type": "code",
   "execution_count": 22,
   "metadata": {},
   "outputs": [
    {
     "name": "stdout",
     "output_type": "stream",
     "text": [
      "{  'Logit': {'NoText': {}, 'withNMF': {}, 'withPCA': {}},\n",
      "   'Random Forrest': {  'NoText': {  'max_depth': 21,\n",
      "                                     'min_impurity_decrease': 0.0},\n",
      "                        'withNMF': {  'max_depth': 21,\n",
      "                                      'min_impurity_decrease': 0.0},\n",
      "                        'withPCA': {  'max_depth': 21,\n",
      "                                      'min_impurity_decrease': 0.0}},\n",
      "   'SGD': {  'NoText': {'alpha': 0.0001, 'tol': 0.05},\n",
      "             'withNMF': {'alpha': 0.0001, 'tol': 0.07},\n",
      "             'withPCA': {'alpha': 0.0001, 'tol': 0.09}}}\n"
     ]
    }
   ],
   "source": [
    "pprint.pprint(get_all_parameters(fitted), indent=3)"
   ]
  },
  {
   "cell_type": "markdown",
   "metadata": {},
   "source": [
    "### Second iteration"
   ]
  },
  {
   "cell_type": "markdown",
   "metadata": {},
   "source": [
    "#### Adjust parameters"
   ]
  },
  {
   "cell_type": "code",
   "execution_count": 23,
   "metadata": {
    "collapsed": true
   },
   "outputs": [],
   "source": [
    "algorithms2 = {'Logit': {'classifier': LogisticRegression(random_state=879),\n",
    "                       'params': {}},\n",
    "              'Random Forrest': {'classifier': RandomForestClassifier(random_state=98798, n_jobs=-1),\n",
    "                                 # adjust max depth\n",
    "                                'params': {'max_depth': range(1,62,5),\n",
    "                                           # Adjust min_impurity\n",
    "                                            'min_impurity_decrease': [i/1000000 for i in range(0,100,10)]}},\n",
    "              'SGD':{'classifier': SGDClassifier(random_state=67876, n_jobs=-1, max_iter=50),\n",
    "                    'params': {# Adjust alpha\n",
    "                                'alpha': [i/100000 for i in range(1,10)],\n",
    "                                'tol': [i/100 for i in range(1,10)]}}\n",
    "}"
   ]
  },
  {
   "cell_type": "markdown",
   "metadata": {},
   "source": [
    "#### Cross-validate models"
   ]
  },
  {
   "cell_type": "code",
   "execution_count": 24,
   "metadata": {},
   "outputs": [
    {
     "name": "stdout",
     "output_type": "stream",
     "text": [
      "**** Logit ****\n",
      "NoText: 0.20 minutes\n",
      "withNMF: 0.46 minutes\n",
      "withPCA: 0.89 minutes\n",
      "**** Random Forrest ****\n",
      "NoText: 6.22 minutes\n",
      "withNMF: 13.82 minutes\n",
      "withPCA: 31.61 minutes\n",
      "**** SGD ****\n",
      "NoText: 2.05 minutes\n",
      "withNMF: 4.28 minutes\n",
      "withPCA: 9.03 minutes\n"
     ]
    }
   ],
   "source": [
    "fitted2 = fit_all_models(algorithms2, scorer=roc_scorer)"
   ]
  },
  {
   "cell_type": "markdown",
   "metadata": {},
   "source": [
    "#### Show parameters"
   ]
  },
  {
   "cell_type": "code",
   "execution_count": 25,
   "metadata": {},
   "outputs": [
    {
     "name": "stdout",
     "output_type": "stream",
     "text": [
      "{  'Logit': {'NoText': {}, 'withNMF': {}, 'withPCA': {}},\n",
      "   'Random Forrest': {  'NoText': {  'max_depth': 56,\n",
      "                                     'min_impurity_decrease': 0.0},\n",
      "                        'withNMF': {  'max_depth': 56,\n",
      "                                      'min_impurity_decrease': 0.0},\n",
      "                        'withPCA': {  'max_depth': 56,\n",
      "                                      'min_impurity_decrease': 0.0}},\n",
      "   'SGD': {  'NoText': {'alpha': 2e-05, 'tol': 0.07},\n",
      "             'withNMF': {'alpha': 1e-05, 'tol': 0.04},\n",
      "             'withPCA': {'alpha': 4e-05, 'tol': 0.06}}}\n"
     ]
    }
   ],
   "source": [
    "pprint.pprint(get_all_parameters(fitted2), indent=3)"
   ]
  },
  {
   "cell_type": "markdown",
   "metadata": {},
   "source": [
    "### Third iteration"
   ]
  },
  {
   "cell_type": "markdown",
   "metadata": {},
   "source": [
    "#### Adjust parameter grid"
   ]
  },
  {
   "cell_type": "code",
   "execution_count": 23,
   "metadata": {
    "collapsed": true
   },
   "outputs": [],
   "source": [
    "algorithms3 = {'Logit': {'classifier': LogisticRegression(random_state=879),\n",
    "                       'params': {}},\n",
    "              'Random Forrest': {'classifier': RandomForestClassifier(random_state=98798, n_jobs=-1),\n",
    "                                'params': {'max_depth': range(1,62,5),\n",
    "                                           # Adjust min_impurity\n",
    "                                            'min_impurity_decrease': [i/10000000 for i in range(0,100,10)]}},\n",
    "              'SGD':{'classifier': SGDClassifier(random_state=67876, n_jobs=-1, max_iter=50),\n",
    "                    'params': { 'alpha': [i/100000 for i in range(1,10)],\n",
    "                                'tol': [i/100 for i in range(1,10)]}}\n",
    "}"
   ]
  },
  {
   "cell_type": "markdown",
   "metadata": {},
   "source": [
    "#### Cross validation"
   ]
  },
  {
   "cell_type": "code",
   "execution_count": 24,
   "metadata": {},
   "outputs": [
    {
     "name": "stdout",
     "output_type": "stream",
     "text": [
      "**** Logit ****\n",
      "NoText: 0.24 minutes\n",
      "withNMF: 0.53 minutes\n",
      "withPCA: 0.99 minutes\n",
      "**** Random Forrest ****\n",
      "NoText: 9.28 minutes\n",
      "withNMF: 20.33 minutes\n",
      "withPCA: 43.55 minutes\n",
      "**** SGD ****\n",
      "NoText: 2.06 minutes\n",
      "withNMF: 4.21 minutes\n",
      "withPCA: 8.35 minutes\n"
     ]
    }
   ],
   "source": [
    "fitted3 = fit_all_models(algorithms3, scorer=roc_scorer)"
   ]
  },
  {
   "cell_type": "markdown",
   "metadata": {},
   "source": [
    "#### Show parameters"
   ]
  },
  {
   "cell_type": "code",
   "execution_count": 25,
   "metadata": {},
   "outputs": [
    {
     "name": "stdout",
     "output_type": "stream",
     "text": [
      "{  'Logit': {'NoText': {}, 'withNMF': {}, 'withPCA': {}},\n",
      "   'Random Forrest': {  'NoText': {  'max_depth': 56,\n",
      "                                     'min_impurity_decrease': 0.0},\n",
      "                        'withNMF': {  'max_depth': 56,\n",
      "                                      'min_impurity_decrease': 0.0},\n",
      "                        'withPCA': {  'max_depth': 56,\n",
      "                                      'min_impurity_decrease': 0.0}},\n",
      "   'SGD': {  'NoText': {'alpha': 2e-05, 'tol': 0.07},\n",
      "             'withNMF': {'alpha': 1e-05, 'tol': 0.04},\n",
      "             'withPCA': {'alpha': 4e-05, 'tol': 0.06}}}\n"
     ]
    }
   ],
   "source": [
    "pprint.pprint(get_all_parameters(fitted3), indent=3)"
   ]
  },
  {
   "cell_type": "markdown",
   "metadata": {},
   "source": [
    "### Evaluate models on test sample"
   ]
  },
  {
   "cell_type": "markdown",
   "metadata": {},
   "source": [
    "#### Calculate scores for test sample"
   ]
  },
  {
   "cell_type": "code",
   "execution_count": 26,
   "metadata": {
    "collapsed": true
   },
   "outputs": [],
   "source": [
    "scores3 = get_all_scores(fitted3)"
   ]
  },
  {
   "cell_type": "markdown",
   "metadata": {},
   "source": [
    "#### Plot and show scores"
   ]
  },
  {
   "cell_type": "code",
   "execution_count": 27,
   "metadata": {},
   "outputs": [
    {
     "data": {
      "image/png": "[encoded data removed]",
      "text/plain": [
       "<matplotlib.figure.Figure at 0x1a33a75518>"
      ]
     },
     "metadata": {},
     "output_type": "display_data"
    }
   ],
   "source": [
    "performance_plot(scores3, './Graphs', 'Performance on test sample')"
   ]
  },
  {
   "cell_type": "code",
   "execution_count": 28,
   "metadata": {},
   "outputs": [
    {
     "name": "stdout",
     "output_type": "stream",
     "text": [
      "{'Logit': {'NoText': [0.84648506151142355,\n",
      "                      0.91679367498571152,\n",
      "                      0.50143716539210637],\n",
      "           'withNMF': [0.8475395430579965,\n",
      "                       0.91719760421886565,\n",
      "                       0.50849502066182839],\n",
      "           'withPCA': [0.84870386643233742,\n",
      "                       0.91746857286660988,\n",
      "                       0.5215810443971276]},\n",
      " 'Random Forrest': {'NoText': [0.82409929701230233,\n",
      "                               0.90180881721748729,\n",
      "                               0.53015013035492087],\n",
      "                    'withNMF': [0.83488576449912122,\n",
      "                                0.90834369893417233,\n",
      "                                0.53751792499622508],\n",
      "                    'withPCA': [0.83697275922671355,\n",
      "                                0.90937954109731223,\n",
      "                                0.54483070823625201]},\n",
      " 'SGD': {'NoText': [0.79721001757469245,\n",
      "                    0.88506219416532816,\n",
      "                    0.51452151668523882],\n",
      "         'withNMF': [0.77368189806678378,\n",
      "                     0.86875429969169615,\n",
      "                     0.52272197847041302],\n",
      "         'withPCA': [0.7977592267135325,\n",
      "                     0.88313402899433824,\n",
      "                     0.56101732028892148]}}\n"
     ]
    }
   ],
   "source": [
    "pprint.pprint(scores3)"
   ]
  },
  {
   "cell_type": "markdown",
   "metadata": {
    "collapsed": true
   },
   "source": [
    "#### Look at confusion matrix for logit and SDG to understand why accuracy is lower but area under ROC is higher"
   ]
  },
  {
   "cell_type": "code",
   "execution_count": 29,
   "metadata": {
    "collapsed": true
   },
   "outputs": [],
   "source": [
    "def get_confusion_matrix(trained_classifier, X_test, y_test, path, name):\n",
    "    pred = trained_classifier.predict(X_test)\n",
    "    confusion = confusion_matrix(y_test, pred)\n",
    "    ax = sns.heatmap(confusion)\n",
    "    save_as = path + \"/\" + name + \".png\"\n",
    "    plt.savefig(save_as)\n",
    "    plt.show()\n",
    "    return confusion.ravel()   "
   ]
  },
  {
   "cell_type": "code",
   "execution_count": 30,
   "metadata": {},
   "outputs": [
    {
     "data": {
      "image/png": "[encoded data removed]",
      "text/plain": [
       "<matplotlib.figure.Figure at 0x1a33696128>"
      ]
     },
     "metadata": {},
     "output_type": "display_data"
    },
    {
     "name": "stdout",
     "output_type": "stream",
     "text": [
      "353 6591 296 38280\n"
     ]
    }
   ],
   "source": [
    "# logit\n",
    "tn, fp, fn, tp = get_confusion_matrix(fitted3['Logit']['withPCA'], \n",
    "                                      datasets['withPCA']['X_test'], \n",
    "                                      y_test,\n",
    "                                      './Graphs', \n",
    "                                      'Confusion matrix logit')\n",
    "print(tn, fp, fn, tp)"
   ]
  },
  {
   "cell_type": "code",
   "execution_count": 31,
   "metadata": {},
   "outputs": [
    {
     "data": {
      "image/png": "[encoded data removed]",
      "text/plain": [
       "<matplotlib.figure.Figure at 0x1a3372c780>"
      ]
     },
     "metadata": {},
     "output_type": "display_data"
    },
    {
     "name": "stdout",
     "output_type": "stream",
     "text": [
      "1530 5414 3792 34784\n"
     ]
    }
   ],
   "source": [
    "# SGD\n",
    "tn, fp, fn, tp = get_confusion_matrix(fitted3['SGD']['withPCA'], \n",
    "                                      datasets['withPCA']['X_test'], \n",
    "                                      y_test,\n",
    "                                      './Graphs', \n",
    "                                      'Confusion matrix SGD')\n",
    "print(tn, fp, fn, tp)"
   ]
  },
  {
   "cell_type": "code",
   "execution_count": null,
   "metadata": {
    "collapsed": true
   },
   "outputs": [],
   "source": []
  }
 ],
 "metadata": {
  "kernelspec": {
   "display_name": "Python 3",
   "language": "python",
   "name": "python3"
  },
  "language_info": {
   "codemirror_mode": {
    "name": "ipython",
    "version": 3
   },
   "file_extension": ".py",
   "mimetype": "text/x-python",
   "name": "python",
   "nbconvert_exporter": "python",
   "pygments_lexer": "ipython3",
   "version": "3.6.2"
  }
 },
 "nbformat": 4,
 "nbformat_minor": 2
}
